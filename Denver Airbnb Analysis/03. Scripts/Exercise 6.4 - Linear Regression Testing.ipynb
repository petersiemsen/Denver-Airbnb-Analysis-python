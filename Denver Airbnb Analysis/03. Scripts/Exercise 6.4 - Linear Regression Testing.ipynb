{
 "cells": [
  {
   "cell_type": "markdown",
   "id": "57195a2d",
   "metadata": {},
   "source": [
    "# Exercise 6.2 - TASK \n",
    "\n",
    "#### 1. Importing libraries and dataset\n",
    "#### 2. Wrangling Data in order to map it\n",
    "#### 3. Checking for missing and extreme values\n",
    "#### 4. Creating a choropleth map"
   ]
  },
  {
   "cell_type": "markdown",
   "id": "a9d5facf",
   "metadata": {},
   "source": [
    "## 01. Importing libraries and dataset"
   ]
  },
  {
   "cell_type": "code",
   "execution_count": 1,
   "id": "0da9fe33",
   "metadata": {},
   "outputs": [],
   "source": [
    "# Importing our libraries\n",
    "\n",
    "import pandas as pd\n",
    "import numpy as np\n",
    "import os\n",
    "import matplotlib.pyplot as plt\n",
    "import seaborn as sns\n",
    "import sklearn\n",
    "from sklearn.model_selection import train_test_split \n",
    "from sklearn.linear_model import LinearRegression\n",
    "from sklearn.metrics import mean_squared_error, r2_score"
   ]
  },
  {
   "cell_type": "code",
   "execution_count": 2,
   "id": "25c39211",
   "metadata": {},
   "outputs": [],
   "source": [
    "# Set max_columns to None to display all columns\n",
    "pd.set_option('display.max_columns', None)"
   ]
  },
  {
   "cell_type": "code",
   "execution_count": 3,
   "id": "390bd3d8",
   "metadata": {},
   "outputs": [],
   "source": [
    "# Creating the default 'path' for easier reference\n",
    "path = r'C:\\Users\\peter\\Desktop\\Career Foundry - Data Analyst\\Data Immersion\\Achievement 6 - Advanced Analytics\\Achievement 6 - Project'"
   ]
  },
  {
   "cell_type": "code",
   "execution_count": 4,
   "id": "ae965199",
   "metadata": {},
   "outputs": [],
   "source": [
    "# Importing the listings dataset\n",
    "df = pd.read_pickle(os.path.join(path, '02. Data\\Modified\\listings_clean.pkl'))"
   ]
  },
  {
   "cell_type": "code",
   "execution_count": 5,
   "id": "28a58fd3",
   "metadata": {},
   "outputs": [
    {
     "data": {
      "text/html": [
       "<div>\n",
       "<style scoped>\n",
       "    .dataframe tbody tr th:only-of-type {\n",
       "        vertical-align: middle;\n",
       "    }\n",
       "\n",
       "    .dataframe tbody tr th {\n",
       "        vertical-align: top;\n",
       "    }\n",
       "\n",
       "    .dataframe thead th {\n",
       "        text-align: right;\n",
       "    }\n",
       "</style>\n",
       "<table border=\"1\" class=\"dataframe\">\n",
       "  <thead>\n",
       "    <tr style=\"text-align: right;\">\n",
       "      <th></th>\n",
       "      <th>id</th>\n",
       "      <th>host_id</th>\n",
       "      <th>host_since</th>\n",
       "      <th>host_location</th>\n",
       "      <th>host_response_time</th>\n",
       "      <th>host_response_rate</th>\n",
       "      <th>host_acceptance_rate</th>\n",
       "      <th>host_is_superhost</th>\n",
       "      <th>host_neighbourhood</th>\n",
       "      <th>host_listings_count</th>\n",
       "      <th>host_total_listings_count</th>\n",
       "      <th>neighbourhood</th>\n",
       "      <th>neighbourhood_cleansed</th>\n",
       "      <th>latitude</th>\n",
       "      <th>longitude</th>\n",
       "      <th>property_type</th>\n",
       "      <th>room_type</th>\n",
       "      <th>accommodates</th>\n",
       "      <th>bathrooms_text</th>\n",
       "      <th>bedrooms</th>\n",
       "      <th>beds</th>\n",
       "      <th>price</th>\n",
       "      <th>minimum_nights</th>\n",
       "      <th>maximum_nights</th>\n",
       "      <th>minimum_minimum_nights</th>\n",
       "      <th>maximum_minimum_nights</th>\n",
       "      <th>minimum_maximum_nights</th>\n",
       "      <th>maximum_maximum_nights</th>\n",
       "      <th>minimum_nights_avg_ntm</th>\n",
       "      <th>maximum_nights_avg_ntm</th>\n",
       "      <th>has_availability</th>\n",
       "      <th>availability_30</th>\n",
       "      <th>availability_60</th>\n",
       "      <th>availability_90</th>\n",
       "      <th>availability_365</th>\n",
       "      <th>number_of_reviews</th>\n",
       "      <th>number_of_reviews_ltm</th>\n",
       "      <th>number_of_reviews_l30d</th>\n",
       "      <th>first_review</th>\n",
       "      <th>last_review</th>\n",
       "      <th>review_scores_rating</th>\n",
       "      <th>review_scores_accuracy</th>\n",
       "      <th>review_scores_cleanliness</th>\n",
       "      <th>review_scores_checkin</th>\n",
       "      <th>review_scores_communication</th>\n",
       "      <th>review_scores_location</th>\n",
       "      <th>review_scores_value</th>\n",
       "      <th>reviews_per_month</th>\n",
       "    </tr>\n",
       "  </thead>\n",
       "  <tbody>\n",
       "    <tr>\n",
       "      <th>0</th>\n",
       "      <td>360.0</td>\n",
       "      <td>666</td>\n",
       "      <td>2008-07-08</td>\n",
       "      <td>Denver, CO</td>\n",
       "      <td>within an hour</td>\n",
       "      <td>100%</td>\n",
       "      <td>96%</td>\n",
       "      <td>t</td>\n",
       "      <td>Highland</td>\n",
       "      <td>4</td>\n",
       "      <td>4</td>\n",
       "      <td>Denver, Colorado, United States</td>\n",
       "      <td>Highland</td>\n",
       "      <td>39.766415</td>\n",
       "      <td>-105.002098</td>\n",
       "      <td>Entire guesthouse</td>\n",
       "      <td>Entire home/apt</td>\n",
       "      <td>3</td>\n",
       "      <td>1 bath</td>\n",
       "      <td>2.0</td>\n",
       "      <td>2.0</td>\n",
       "      <td>136.0</td>\n",
       "      <td>30</td>\n",
       "      <td>60</td>\n",
       "      <td>30</td>\n",
       "      <td>30</td>\n",
       "      <td>60</td>\n",
       "      <td>60</td>\n",
       "      <td>30.0</td>\n",
       "      <td>60.0</td>\n",
       "      <td>t</td>\n",
       "      <td>0</td>\n",
       "      <td>23</td>\n",
       "      <td>53</td>\n",
       "      <td>143</td>\n",
       "      <td>178</td>\n",
       "      <td>8</td>\n",
       "      <td>1</td>\n",
       "      <td>2018-08-13</td>\n",
       "      <td>2023-06-16</td>\n",
       "      <td>4.99</td>\n",
       "      <td>4.99</td>\n",
       "      <td>4.96</td>\n",
       "      <td>5.00</td>\n",
       "      <td>5.00</td>\n",
       "      <td>5.00</td>\n",
       "      <td>4.91</td>\n",
       "      <td>2.99</td>\n",
       "    </tr>\n",
       "    <tr>\n",
       "      <th>1</th>\n",
       "      <td>364.0</td>\n",
       "      <td>783</td>\n",
       "      <td>2008-07-11</td>\n",
       "      <td>Denver, CO</td>\n",
       "      <td>nan</td>\n",
       "      <td>nan</td>\n",
       "      <td>nan</td>\n",
       "      <td>f</td>\n",
       "      <td>Five Points</td>\n",
       "      <td>1</td>\n",
       "      <td>1</td>\n",
       "      <td>Denver, Colorado, United States</td>\n",
       "      <td>Five Points</td>\n",
       "      <td>39.766720</td>\n",
       "      <td>-104.979060</td>\n",
       "      <td>Entire loft</td>\n",
       "      <td>Entire home/apt</td>\n",
       "      <td>3</td>\n",
       "      <td>1.5 baths</td>\n",
       "      <td>1.0</td>\n",
       "      <td>1.0</td>\n",
       "      <td>179.0</td>\n",
       "      <td>185</td>\n",
       "      <td>365</td>\n",
       "      <td>185</td>\n",
       "      <td>185</td>\n",
       "      <td>365</td>\n",
       "      <td>365</td>\n",
       "      <td>185.0</td>\n",
       "      <td>365.0</td>\n",
       "      <td>t</td>\n",
       "      <td>23</td>\n",
       "      <td>53</td>\n",
       "      <td>83</td>\n",
       "      <td>358</td>\n",
       "      <td>87</td>\n",
       "      <td>0</td>\n",
       "      <td>0</td>\n",
       "      <td>2009-05-18</td>\n",
       "      <td>2016-04-26</td>\n",
       "      <td>4.85</td>\n",
       "      <td>4.78</td>\n",
       "      <td>4.81</td>\n",
       "      <td>4.95</td>\n",
       "      <td>4.96</td>\n",
       "      <td>4.65</td>\n",
       "      <td>4.71</td>\n",
       "      <td>0.51</td>\n",
       "    </tr>\n",
       "    <tr>\n",
       "      <th>2</th>\n",
       "      <td>590.0</td>\n",
       "      <td>933</td>\n",
       "      <td>2008-07-21</td>\n",
       "      <td>Denver, CO</td>\n",
       "      <td>within an hour</td>\n",
       "      <td>100%</td>\n",
       "      <td>97%</td>\n",
       "      <td>nan</td>\n",
       "      <td>North Park Hill</td>\n",
       "      <td>2</td>\n",
       "      <td>2</td>\n",
       "      <td>Denver, Colorado, United States</td>\n",
       "      <td>North Park Hill</td>\n",
       "      <td>39.755110</td>\n",
       "      <td>-104.911090</td>\n",
       "      <td>Private room in home</td>\n",
       "      <td>Private room</td>\n",
       "      <td>3</td>\n",
       "      <td>1 shared bath</td>\n",
       "      <td>NaN</td>\n",
       "      <td>1.0</td>\n",
       "      <td>84.0</td>\n",
       "      <td>1</td>\n",
       "      <td>300</td>\n",
       "      <td>1</td>\n",
       "      <td>1</td>\n",
       "      <td>300</td>\n",
       "      <td>300</td>\n",
       "      <td>1.0</td>\n",
       "      <td>300.0</td>\n",
       "      <td>t</td>\n",
       "      <td>15</td>\n",
       "      <td>45</td>\n",
       "      <td>63</td>\n",
       "      <td>242</td>\n",
       "      <td>702</td>\n",
       "      <td>48</td>\n",
       "      <td>7</td>\n",
       "      <td>2009-03-29</td>\n",
       "      <td>2023-06-24</td>\n",
       "      <td>4.85</td>\n",
       "      <td>4.79</td>\n",
       "      <td>4.58</td>\n",
       "      <td>4.93</td>\n",
       "      <td>4.95</td>\n",
       "      <td>4.75</td>\n",
       "      <td>4.86</td>\n",
       "      <td>4.04</td>\n",
       "    </tr>\n",
       "    <tr>\n",
       "      <th>3</th>\n",
       "      <td>592.0</td>\n",
       "      <td>933</td>\n",
       "      <td>2008-07-21</td>\n",
       "      <td>Denver, CO</td>\n",
       "      <td>within an hour</td>\n",
       "      <td>100%</td>\n",
       "      <td>97%</td>\n",
       "      <td>nan</td>\n",
       "      <td>North Park Hill</td>\n",
       "      <td>2</td>\n",
       "      <td>2</td>\n",
       "      <td>nan</td>\n",
       "      <td>North Park Hill</td>\n",
       "      <td>39.754810</td>\n",
       "      <td>-104.911060</td>\n",
       "      <td>Private room in home</td>\n",
       "      <td>Private room</td>\n",
       "      <td>2</td>\n",
       "      <td>1 shared bath</td>\n",
       "      <td>NaN</td>\n",
       "      <td>1.0</td>\n",
       "      <td>65.0</td>\n",
       "      <td>28</td>\n",
       "      <td>365</td>\n",
       "      <td>28</td>\n",
       "      <td>28</td>\n",
       "      <td>365</td>\n",
       "      <td>365</td>\n",
       "      <td>28.0</td>\n",
       "      <td>365.0</td>\n",
       "      <td>t</td>\n",
       "      <td>8</td>\n",
       "      <td>8</td>\n",
       "      <td>8</td>\n",
       "      <td>174</td>\n",
       "      <td>168</td>\n",
       "      <td>1</td>\n",
       "      <td>1</td>\n",
       "      <td>2009-02-21</td>\n",
       "      <td>2023-06-24</td>\n",
       "      <td>4.87</td>\n",
       "      <td>4.75</td>\n",
       "      <td>4.55</td>\n",
       "      <td>4.94</td>\n",
       "      <td>4.94</td>\n",
       "      <td>4.81</td>\n",
       "      <td>4.86</td>\n",
       "      <td>0.96</td>\n",
       "    </tr>\n",
       "    <tr>\n",
       "      <th>4</th>\n",
       "      <td>1940.0</td>\n",
       "      <td>2150</td>\n",
       "      <td>2008-08-16</td>\n",
       "      <td>Denver, CO</td>\n",
       "      <td>within an hour</td>\n",
       "      <td>100%</td>\n",
       "      <td>100%</td>\n",
       "      <td>t</td>\n",
       "      <td>Baker</td>\n",
       "      <td>1</td>\n",
       "      <td>1</td>\n",
       "      <td>Denver, Colorado, United States</td>\n",
       "      <td>Baker</td>\n",
       "      <td>39.720486</td>\n",
       "      <td>-104.997520</td>\n",
       "      <td>Entire guesthouse</td>\n",
       "      <td>Entire home/apt</td>\n",
       "      <td>2</td>\n",
       "      <td>1 bath</td>\n",
       "      <td>NaN</td>\n",
       "      <td>1.0</td>\n",
       "      <td>111.0</td>\n",
       "      <td>1</td>\n",
       "      <td>120</td>\n",
       "      <td>1</td>\n",
       "      <td>1</td>\n",
       "      <td>1125</td>\n",
       "      <td>1125</td>\n",
       "      <td>1.0</td>\n",
       "      <td>1125.0</td>\n",
       "      <td>t</td>\n",
       "      <td>6</td>\n",
       "      <td>22</td>\n",
       "      <td>44</td>\n",
       "      <td>129</td>\n",
       "      <td>132</td>\n",
       "      <td>35</td>\n",
       "      <td>2</td>\n",
       "      <td>2017-01-24</td>\n",
       "      <td>2023-06-04</td>\n",
       "      <td>4.95</td>\n",
       "      <td>4.94</td>\n",
       "      <td>4.97</td>\n",
       "      <td>4.98</td>\n",
       "      <td>4.98</td>\n",
       "      <td>4.91</td>\n",
       "      <td>4.86</td>\n",
       "      <td>1.69</td>\n",
       "    </tr>\n",
       "  </tbody>\n",
       "</table>\n",
       "</div>"
      ],
      "text/plain": [
       "       id  host_id host_since host_location host_response_time  \\\n",
       "0   360.0      666 2008-07-08    Denver, CO     within an hour   \n",
       "1   364.0      783 2008-07-11    Denver, CO                nan   \n",
       "2   590.0      933 2008-07-21    Denver, CO     within an hour   \n",
       "3   592.0      933 2008-07-21    Denver, CO     within an hour   \n",
       "4  1940.0     2150 2008-08-16    Denver, CO     within an hour   \n",
       "\n",
       "  host_response_rate host_acceptance_rate host_is_superhost  \\\n",
       "0               100%                  96%                 t   \n",
       "1                nan                  nan                 f   \n",
       "2               100%                  97%               nan   \n",
       "3               100%                  97%               nan   \n",
       "4               100%                 100%                 t   \n",
       "\n",
       "  host_neighbourhood  host_listings_count  host_total_listings_count  \\\n",
       "0           Highland                    4                          4   \n",
       "1        Five Points                    1                          1   \n",
       "2    North Park Hill                    2                          2   \n",
       "3    North Park Hill                    2                          2   \n",
       "4              Baker                    1                          1   \n",
       "\n",
       "                     neighbourhood neighbourhood_cleansed   latitude  \\\n",
       "0  Denver, Colorado, United States               Highland  39.766415   \n",
       "1  Denver, Colorado, United States            Five Points  39.766720   \n",
       "2  Denver, Colorado, United States        North Park Hill  39.755110   \n",
       "3                              nan        North Park Hill  39.754810   \n",
       "4  Denver, Colorado, United States                  Baker  39.720486   \n",
       "\n",
       "    longitude         property_type        room_type  accommodates  \\\n",
       "0 -105.002098     Entire guesthouse  Entire home/apt             3   \n",
       "1 -104.979060           Entire loft  Entire home/apt             3   \n",
       "2 -104.911090  Private room in home     Private room             3   \n",
       "3 -104.911060  Private room in home     Private room             2   \n",
       "4 -104.997520     Entire guesthouse  Entire home/apt             2   \n",
       "\n",
       "  bathrooms_text  bedrooms  beds  price  minimum_nights  maximum_nights  \\\n",
       "0         1 bath       2.0   2.0  136.0              30              60   \n",
       "1      1.5 baths       1.0   1.0  179.0             185             365   \n",
       "2  1 shared bath       NaN   1.0   84.0               1             300   \n",
       "3  1 shared bath       NaN   1.0   65.0              28             365   \n",
       "4         1 bath       NaN   1.0  111.0               1             120   \n",
       "\n",
       "   minimum_minimum_nights  maximum_minimum_nights  minimum_maximum_nights  \\\n",
       "0                      30                      30                      60   \n",
       "1                     185                     185                     365   \n",
       "2                       1                       1                     300   \n",
       "3                      28                      28                     365   \n",
       "4                       1                       1                    1125   \n",
       "\n",
       "   maximum_maximum_nights  minimum_nights_avg_ntm  maximum_nights_avg_ntm  \\\n",
       "0                      60                    30.0                    60.0   \n",
       "1                     365                   185.0                   365.0   \n",
       "2                     300                     1.0                   300.0   \n",
       "3                     365                    28.0                   365.0   \n",
       "4                    1125                     1.0                  1125.0   \n",
       "\n",
       "  has_availability  availability_30  availability_60  availability_90  \\\n",
       "0                t                0               23               53   \n",
       "1                t               23               53               83   \n",
       "2                t               15               45               63   \n",
       "3                t                8                8                8   \n",
       "4                t                6               22               44   \n",
       "\n",
       "   availability_365  number_of_reviews  number_of_reviews_ltm  \\\n",
       "0               143                178                      8   \n",
       "1               358                 87                      0   \n",
       "2               242                702                     48   \n",
       "3               174                168                      1   \n",
       "4               129                132                     35   \n",
       "\n",
       "   number_of_reviews_l30d first_review last_review  review_scores_rating  \\\n",
       "0                       1   2018-08-13  2023-06-16                  4.99   \n",
       "1                       0   2009-05-18  2016-04-26                  4.85   \n",
       "2                       7   2009-03-29  2023-06-24                  4.85   \n",
       "3                       1   2009-02-21  2023-06-24                  4.87   \n",
       "4                       2   2017-01-24  2023-06-04                  4.95   \n",
       "\n",
       "   review_scores_accuracy  review_scores_cleanliness  review_scores_checkin  \\\n",
       "0                    4.99                       4.96                   5.00   \n",
       "1                    4.78                       4.81                   4.95   \n",
       "2                    4.79                       4.58                   4.93   \n",
       "3                    4.75                       4.55                   4.94   \n",
       "4                    4.94                       4.97                   4.98   \n",
       "\n",
       "   review_scores_communication  review_scores_location  review_scores_value  \\\n",
       "0                         5.00                    5.00                 4.91   \n",
       "1                         4.96                    4.65                 4.71   \n",
       "2                         4.95                    4.75                 4.86   \n",
       "3                         4.94                    4.81                 4.86   \n",
       "4                         4.98                    4.91                 4.86   \n",
       "\n",
       "   reviews_per_month  \n",
       "0               2.99  \n",
       "1               0.51  \n",
       "2               4.04  \n",
       "3               0.96  \n",
       "4               1.69  "
      ]
     },
     "execution_count": 5,
     "metadata": {},
     "output_type": "execute_result"
    }
   ],
   "source": [
    "df.head()"
   ]
  },
  {
   "cell_type": "markdown",
   "id": "e6106bd2",
   "metadata": {},
   "source": [
    "## 02. Wrangling the data "
   ]
  },
  {
   "cell_type": "code",
   "execution_count": 6,
   "id": "2f68c4a8",
   "metadata": {},
   "outputs": [],
   "source": [
    "# Creating a list then subset to include only the columns we want to analyze based on our hypothesis \n",
    "df_wrangle = ['neighbourhood_cleansed','room_type','price','accommodates']"
   ]
  },
  {
   "cell_type": "code",
   "execution_count": 7,
   "id": "757532f7",
   "metadata": {},
   "outputs": [],
   "source": [
    "# Creating the subset dataframe\n",
    "df2 = df[df_wrangle]"
   ]
  },
  {
   "cell_type": "code",
   "execution_count": 8,
   "id": "078469e0",
   "metadata": {},
   "outputs": [
    {
     "name": "stderr",
     "output_type": "stream",
     "text": [
      "C:\\Users\\peter\\AppData\\Local\\Temp\\ipykernel_21852\\122133726.py:2: SettingWithCopyWarning: \n",
      "A value is trying to be set on a copy of a slice from a DataFrame\n",
      "\n",
      "See the caveats in the documentation: https://pandas.pydata.org/pandas-docs/stable/user_guide/indexing.html#returning-a-view-versus-a-copy\n",
      "  df2.rename(columns={'neighbourhood_cleansed':'neighbourhood'}, inplace=True)\n"
     ]
    }
   ],
   "source": [
    "# Renaming the neighbourhoods column so that it matches the last exercise\n",
    "df2.rename(columns={'neighbourhood_cleansed':'neighbourhood'}, inplace=True)"
   ]
  },
  {
   "cell_type": "code",
   "execution_count": 9,
   "id": "bcf1b142",
   "metadata": {},
   "outputs": [
    {
     "name": "stderr",
     "output_type": "stream",
     "text": [
      "C:\\Users\\peter\\AppData\\Local\\Temp\\ipykernel_21852\\2331816815.py:2: SettingWithCopyWarning: \n",
      "A value is trying to be set on a copy of a slice from a DataFrame.\n",
      "Try using .loc[row_indexer,col_indexer] = value instead\n",
      "\n",
      "See the caveats in the documentation: https://pandas.pydata.org/pandas-docs/stable/user_guide/indexing.html#returning-a-view-versus-a-copy\n",
      "  df2['avg_price'] = df2.groupby('neighbourhood')['price'].transform('mean')\n",
      "C:\\Users\\peter\\AppData\\Local\\Temp\\ipykernel_21852\\2331816815.py:5: SettingWithCopyWarning: \n",
      "A value is trying to be set on a copy of a slice from a DataFrame.\n",
      "Try using .loc[row_indexer,col_indexer] = value instead\n",
      "\n",
      "See the caveats in the documentation: https://pandas.pydata.org/pandas-docs/stable/user_guide/indexing.html#returning-a-view-versus-a-copy\n",
      "  df2['avg_price'] = df2['avg_price'].round(2)\n"
     ]
    }
   ],
   "source": [
    "# Calculating the avg_price for each hood by grouping them, then running a transform for the mean value\n",
    "df2['avg_price'] = df2.groupby('neighbourhood')['price'].transform('mean')\n",
    "\n",
    "# Round the average price to two decimal places\n",
    "df2['avg_price'] = df2['avg_price'].round(2)"
   ]
  },
  {
   "cell_type": "code",
   "execution_count": 10,
   "id": "1b7dbd72",
   "metadata": {},
   "outputs": [
    {
     "name": "stderr",
     "output_type": "stream",
     "text": [
      "C:\\Users\\peter\\AppData\\Local\\Temp\\ipykernel_21852\\4024956236.py:2: SettingWithCopyWarning: \n",
      "A value is trying to be set on a copy of a slice from a DataFrame.\n",
      "Try using .loc[row_indexer,col_indexer] = value instead\n",
      "\n",
      "See the caveats in the documentation: https://pandas.pydata.org/pandas-docs/stable/user_guide/indexing.html#returning-a-view-versus-a-copy\n",
      "  df2['neighbourhood_count'] = df2.groupby('neighbourhood')['neighbourhood'].transform('count')\n"
     ]
    }
   ],
   "source": [
    "# Creating a new column that counts the total number of listings for the rows neighbourhood\n",
    "df2['neighbourhood_count'] = df2.groupby('neighbourhood')['neighbourhood'].transform('count')"
   ]
  },
  {
   "cell_type": "code",
   "execution_count": 11,
   "id": "d52d58a0",
   "metadata": {},
   "outputs": [
    {
     "data": {
      "text/html": [
       "<div>\n",
       "<style scoped>\n",
       "    .dataframe tbody tr th:only-of-type {\n",
       "        vertical-align: middle;\n",
       "    }\n",
       "\n",
       "    .dataframe tbody tr th {\n",
       "        vertical-align: top;\n",
       "    }\n",
       "\n",
       "    .dataframe thead th {\n",
       "        text-align: right;\n",
       "    }\n",
       "</style>\n",
       "<table border=\"1\" class=\"dataframe\">\n",
       "  <thead>\n",
       "    <tr style=\"text-align: right;\">\n",
       "      <th></th>\n",
       "      <th>neighbourhood</th>\n",
       "      <th>room_type</th>\n",
       "      <th>price</th>\n",
       "      <th>accommodates</th>\n",
       "      <th>avg_price</th>\n",
       "      <th>neighbourhood_count</th>\n",
       "    </tr>\n",
       "  </thead>\n",
       "  <tbody>\n",
       "    <tr>\n",
       "      <th>0</th>\n",
       "      <td>Highland</td>\n",
       "      <td>Entire home/apt</td>\n",
       "      <td>136.0</td>\n",
       "      <td>3</td>\n",
       "      <td>232.05</td>\n",
       "      <td>345</td>\n",
       "    </tr>\n",
       "    <tr>\n",
       "      <th>1</th>\n",
       "      <td>Five Points</td>\n",
       "      <td>Entire home/apt</td>\n",
       "      <td>179.0</td>\n",
       "      <td>3</td>\n",
       "      <td>243.91</td>\n",
       "      <td>452</td>\n",
       "    </tr>\n",
       "    <tr>\n",
       "      <th>2</th>\n",
       "      <td>North Park Hill</td>\n",
       "      <td>Private room</td>\n",
       "      <td>84.0</td>\n",
       "      <td>3</td>\n",
       "      <td>219.16</td>\n",
       "      <td>82</td>\n",
       "    </tr>\n",
       "    <tr>\n",
       "      <th>3</th>\n",
       "      <td>North Park Hill</td>\n",
       "      <td>Private room</td>\n",
       "      <td>65.0</td>\n",
       "      <td>2</td>\n",
       "      <td>219.16</td>\n",
       "      <td>82</td>\n",
       "    </tr>\n",
       "    <tr>\n",
       "      <th>4</th>\n",
       "      <td>Baker</td>\n",
       "      <td>Entire home/apt</td>\n",
       "      <td>111.0</td>\n",
       "      <td>2</td>\n",
       "      <td>146.87</td>\n",
       "      <td>138</td>\n",
       "    </tr>\n",
       "  </tbody>\n",
       "</table>\n",
       "</div>"
      ],
      "text/plain": [
       "     neighbourhood        room_type  price  accommodates  avg_price  \\\n",
       "0         Highland  Entire home/apt  136.0             3     232.05   \n",
       "1      Five Points  Entire home/apt  179.0             3     243.91   \n",
       "2  North Park Hill     Private room   84.0             3     219.16   \n",
       "3  North Park Hill     Private room   65.0             2     219.16   \n",
       "4            Baker  Entire home/apt  111.0             2     146.87   \n",
       "\n",
       "   neighbourhood_count  \n",
       "0                  345  \n",
       "1                  452  \n",
       "2                   82  \n",
       "3                   82  \n",
       "4                  138  "
      ]
     },
     "execution_count": 11,
     "metadata": {},
     "output_type": "execute_result"
    }
   ],
   "source": [
    "df2.head()"
   ]
  },
  {
   "cell_type": "markdown",
   "id": "1bac42ea",
   "metadata": {},
   "source": [
    "## 03. Consistency checks, extreme values"
   ]
  },
  {
   "cell_type": "code",
   "execution_count": 12,
   "id": "82178552",
   "metadata": {},
   "outputs": [
    {
     "data": {
      "text/plain": [
       "<Axes: xlabel='price', ylabel='Count'>"
      ]
     },
     "execution_count": 12,
     "metadata": {},
     "output_type": "execute_result"
    },
    {
     "data": {
      "image/png": "[encoded data removed]",
      "text/plain": [
       "<Figure size 640x480 with 1 Axes>"
      ]
     },
     "metadata": {},
     "output_type": "display_data"
    }
   ],
   "source": [
    "# Histogram to check the price distribution\n",
    "sns.histplot(df['price'], bins=20, kde = True)"
   ]
  },
  {
   "cell_type": "code",
   "execution_count": 13,
   "id": "e9b525df",
   "metadata": {},
   "outputs": [],
   "source": [
    "# Removing the listings with a price < 10000 and > 0.\n",
    "df2 = df2[(df2['price'] <10000) & (df2['price'] >0)]"
   ]
  },
  {
   "cell_type": "code",
   "execution_count": 14,
   "id": "9074860c",
   "metadata": {},
   "outputs": [
    {
     "data": {
      "text/plain": [
       "(5367, 6)"
      ]
     },
     "execution_count": 14,
     "metadata": {},
     "output_type": "execute_result"
    }
   ],
   "source": [
    "df2.shape"
   ]
  },
  {
   "cell_type": "code",
   "execution_count": 15,
   "id": "7a470782",
   "metadata": {},
   "outputs": [
    {
     "data": {
      "text/plain": [
       "neighbourhood          0\n",
       "room_type              0\n",
       "price                  0\n",
       "accommodates           0\n",
       "avg_price              0\n",
       "neighbourhood_count    0\n",
       "dtype: int64"
      ]
     },
     "execution_count": 15,
     "metadata": {},
     "output_type": "execute_result"
    }
   ],
   "source": [
    "# Checking for missing values\n",
    "df2.isnull().sum()"
   ]
  },
  {
   "cell_type": "markdown",
   "id": "5a08cbd4",
   "metadata": {},
   "source": [
    "## 04. Data prep for regression analysis"
   ]
  },
  {
   "cell_type": "markdown",
   "id": "93766156",
   "metadata": {},
   "source": [
    "### Setting up the first variable relationship\n",
    "### \"If a listing is in a neighborhood with a higher number of total listings, it will have a lower price.\""
   ]
  },
  {
   "cell_type": "code",
   "execution_count": 16,
   "id": "6fc10c4c",
   "metadata": {
    "scrolled": false
   },
   "outputs": [
    {
     "data": {
      "image/png": "[encoded data removed]",
      "text/plain": [
       "<Figure size 640x480 with 1 Axes>"
      ]
     },
     "metadata": {},
     "output_type": "display_data"
    }
   ],
   "source": [
    "# Creating a scatter plot of the data frame df2 to compare the chosen variables against eachother\n",
    "# We are looking to compare the relationship between the number of listings in a neighborhood and the price.\n",
    "\n",
    "df2.plot(x = 'neighbourhood_count', y='price',style='o')\n",
    "plt.title('Number of Listings in a Neighbourhood and the Price of the Listing')  \n",
    "plt.xlabel('Neighbourhood Count')  \n",
    "plt.ylabel('Price')  \n",
    "plt.show()"
   ]
  },
  {
   "cell_type": "code",
   "execution_count": 17,
   "id": "ead6ac87",
   "metadata": {},
   "outputs": [],
   "source": [
    "# Reshape the variables into NumPy arrays and put them into separate objects.\n",
    "X = df2['neighbourhood_count'].values.reshape(-1,1)\n",
    "y = df2['price'].values.reshape(-1,1)"
   ]
  },
  {
   "cell_type": "code",
   "execution_count": 18,
   "id": "04ea7360",
   "metadata": {},
   "outputs": [
    {
     "data": {
      "text/plain": [
       "array([[345],\n",
       "       [452],\n",
       "       [ 82],\n",
       "       ...,\n",
       "       [ 36],\n",
       "       [243],\n",
       "       [214]], dtype=int64)"
      ]
     },
     "execution_count": 18,
     "metadata": {},
     "output_type": "execute_result"
    }
   ],
   "source": [
    "X"
   ]
  },
  {
   "cell_type": "code",
   "execution_count": 19,
   "id": "9d4d6699",
   "metadata": {},
   "outputs": [
    {
     "data": {
      "text/plain": [
       "array([[136.],\n",
       "       [179.],\n",
       "       [ 84.],\n",
       "       ...,\n",
       "       [151.],\n",
       "       [209.],\n",
       "       [141.]])"
      ]
     },
     "execution_count": 19,
     "metadata": {},
     "output_type": "execute_result"
    }
   ],
   "source": [
    "y"
   ]
  },
  {
   "cell_type": "code",
   "execution_count": 20,
   "id": "aafa2faa",
   "metadata": {},
   "outputs": [],
   "source": [
    "# Split data into a training set and a test set.\n",
    "X_train, X_test, y_train, y_test = train_test_split(X, y, test_size=0.3, random_state=0)"
   ]
  },
  {
   "cell_type": "markdown",
   "id": "cb7c8124",
   "metadata": {},
   "source": [
    "### Setting up another variable relationship for regression testing\n",
    "### \"If a listing accomodates more guests, it will have a higher price.\""
   ]
  },
  {
   "cell_type": "code",
   "execution_count": 21,
   "id": "25a0f2ad",
   "metadata": {},
   "outputs": [
    {
     "data": {
      "image/png": "[encoded data removed]",
      "text/plain": [
       "<Figure size 640x480 with 1 Axes>"
      ]
     },
     "metadata": {},
     "output_type": "display_data"
    }
   ],
   "source": [
    "# Creating another scatter plot to run a regression on another variable relationship. \n",
    "\n",
    "\n",
    "df2.plot(x = 'accommodates', y='price',style='o')\n",
    "plt.title('Number of Accommodations and the Price of the Listing')  \n",
    "plt.xlabel('Accommodates')  \n",
    "plt.ylabel('Price')  \n",
    "plt.show()"
   ]
  },
  {
   "cell_type": "code",
   "execution_count": 22,
   "id": "76f39fc3",
   "metadata": {},
   "outputs": [],
   "source": [
    "# Reshape the variables into NumPy arrays and put them into separate objects.\n",
    "X2 = df2['accommodates'].values.reshape(-1,1)\n",
    "y2 = df2['price'].values.reshape(-1,1)"
   ]
  },
  {
   "cell_type": "code",
   "execution_count": 23,
   "id": "86981cce",
   "metadata": {},
   "outputs": [
    {
     "data": {
      "text/plain": [
       "array([[ 3],\n",
       "       [ 3],\n",
       "       [ 3],\n",
       "       ...,\n",
       "       [ 6],\n",
       "       [10],\n",
       "       [ 2]], dtype=int64)"
      ]
     },
     "execution_count": 23,
     "metadata": {},
     "output_type": "execute_result"
    }
   ],
   "source": [
    "X2"
   ]
  },
  {
   "cell_type": "code",
   "execution_count": 24,
   "id": "23a2ad8a",
   "metadata": {},
   "outputs": [
    {
     "data": {
      "text/plain": [
       "array([[136.],\n",
       "       [179.],\n",
       "       [ 84.],\n",
       "       ...,\n",
       "       [151.],\n",
       "       [209.],\n",
       "       [141.]])"
      ]
     },
     "execution_count": 24,
     "metadata": {},
     "output_type": "execute_result"
    }
   ],
   "source": [
    "y2"
   ]
  },
  {
   "cell_type": "code",
   "execution_count": 25,
   "id": "17137558",
   "metadata": {},
   "outputs": [],
   "source": [
    "# Split data into a training set and a test set.\n",
    "X2_train, X2_test, y2_train, y2_test = train_test_split(X2, y2, test_size=0.3, random_state=0)"
   ]
  },
  {
   "cell_type": "markdown",
   "id": "072a9653",
   "metadata": {},
   "source": [
    "## 05. Regression analysis"
   ]
  },
  {
   "cell_type": "code",
   "execution_count": 26,
   "id": "edcf731e",
   "metadata": {},
   "outputs": [],
   "source": [
    "# Create a regression object\n",
    "regression = LinearRegression()"
   ]
  },
  {
   "cell_type": "code",
   "execution_count": 27,
   "id": "9564a3d0",
   "metadata": {},
   "outputs": [
    {
     "data": {
      "text/html": [
       "<style>#sk-container-id-1 {color: black;background-color: white;}#sk-container-id-1 pre{padding: 0;}#sk-container-id-1 div.sk-toggleable {background-color: white;}#sk-container-id-1 label.sk-toggleable__label {cursor: pointer;display: block;width: 100%;margin-bottom: 0;padding: 0.3em;box-sizing: border-box;text-align: center;}#sk-container-id-1 label.sk-toggleable__label-arrow:before {content: \"▸\";float: left;margin-right: 0.25em;color: #696969;}#sk-container-id-1 label.sk-toggleable__label-arrow:hover:before {color: black;}#sk-container-id-1 div.sk-estimator:hover label.sk-toggleable__label-arrow:before {color: black;}#sk-container-id-1 div.sk-toggleable__content {max-height: 0;max-width: 0;overflow: hidden;text-align: left;background-color: #f0f8ff;}#sk-container-id-1 div.sk-toggleable__content pre {margin: 0.2em;color: black;border-radius: 0.25em;background-color: #f0f8ff;}#sk-container-id-1 input.sk-toggleable__control:checked~div.sk-toggleable__content {max-height: 200px;max-width: 100%;overflow: auto;}#sk-container-id-1 input.sk-toggleable__control:checked~label.sk-toggleable__label-arrow:before {content: \"▾\";}#sk-container-id-1 div.sk-estimator input.sk-toggleable__control:checked~label.sk-toggleable__label {background-color: #d4ebff;}#sk-container-id-1 div.sk-label input.sk-toggleable__control:checked~label.sk-toggleable__label {background-color: #d4ebff;}#sk-container-id-1 input.sk-hidden--visually {border: 0;clip: rect(1px 1px 1px 1px);clip: rect(1px, 1px, 1px, 1px);height: 1px;margin: -1px;overflow: hidden;padding: 0;position: absolute;width: 1px;}#sk-container-id-1 div.sk-estimator {font-family: monospace;background-color: #f0f8ff;border: 1px dotted black;border-radius: 0.25em;box-sizing: border-box;margin-bottom: 0.5em;}#sk-container-id-1 div.sk-estimator:hover {background-color: #d4ebff;}#sk-container-id-1 div.sk-parallel-item::after {content: \"\";width: 100%;border-bottom: 1px solid gray;flex-grow: 1;}#sk-container-id-1 div.sk-label:hover label.sk-toggleable__label {background-color: #d4ebff;}#sk-container-id-1 div.sk-serial::before {content: \"\";position: absolute;border-left: 1px solid gray;box-sizing: border-box;top: 0;bottom: 0;left: 50%;z-index: 0;}#sk-container-id-1 div.sk-serial {display: flex;flex-direction: column;align-items: center;background-color: white;padding-right: 0.2em;padding-left: 0.2em;position: relative;}#sk-container-id-1 div.sk-item {position: relative;z-index: 1;}#sk-container-id-1 div.sk-parallel {display: flex;align-items: stretch;justify-content: center;background-color: white;position: relative;}#sk-container-id-1 div.sk-item::before, #sk-container-id-1 div.sk-parallel-item::before {content: \"\";position: absolute;border-left: 1px solid gray;box-sizing: border-box;top: 0;bottom: 0;left: 50%;z-index: -1;}#sk-container-id-1 div.sk-parallel-item {display: flex;flex-direction: column;z-index: 1;position: relative;background-color: white;}#sk-container-id-1 div.sk-parallel-item:first-child::after {align-self: flex-end;width: 50%;}#sk-container-id-1 div.sk-parallel-item:last-child::after {align-self: flex-start;width: 50%;}#sk-container-id-1 div.sk-parallel-item:only-child::after {width: 0;}#sk-container-id-1 div.sk-dashed-wrapped {border: 1px dashed gray;margin: 0 0.4em 0.5em 0.4em;box-sizing: border-box;padding-bottom: 0.4em;background-color: white;}#sk-container-id-1 div.sk-label label {font-family: monospace;font-weight: bold;display: inline-block;line-height: 1.2em;}#sk-container-id-1 div.sk-label-container {text-align: center;}#sk-container-id-1 div.sk-container {/* jupyter's `normalize.less` sets `[hidden] { display: none; }` but bootstrap.min.css set `[hidden] { display: none !important; }` so we also need the `!important` here to be able to override the default hidden behavior on the sphinx rendered scikit-learn.org. See: https://github.com/scikit-learn/scikit-learn/issues/21755 */display: inline-block !important;position: relative;}#sk-container-id-1 div.sk-text-repr-fallback {display: none;}</style><div id=\"sk-container-id-1\" class=\"sk-top-container\"><div class=\"sk-text-repr-fallback\"><pre>LinearRegression()</pre><b>In a Jupyter environment, please rerun this cell to show the HTML representation or trust the notebook. <br />On GitHub, the HTML representation is unable to render, please try loading this page with nbviewer.org.</b></div><div class=\"sk-container\" hidden><div class=\"sk-item\"><div class=\"sk-estimator sk-toggleable\"><input class=\"sk-toggleable__control sk-hidden--visually\" id=\"sk-estimator-id-1\" type=\"checkbox\" checked><label for=\"sk-estimator-id-1\" class=\"sk-toggleable__label sk-toggleable__label-arrow\">LinearRegression</label><div class=\"sk-toggleable__content\"><pre>LinearRegression()</pre></div></div></div></div></div>"
      ],
      "text/plain": [
       "LinearRegression()"
      ]
     },
     "execution_count": 27,
     "metadata": {},
     "output_type": "execute_result"
    }
   ],
   "source": [
    "# Fit the object to the training set.\n",
    "regression.fit(X_train, y_train)"
   ]
  },
  {
   "cell_type": "code",
   "execution_count": 28,
   "id": "f678f1da",
   "metadata": {},
   "outputs": [],
   "source": [
    "# Predict the values of y using X\n",
    "y_predicted = regression.predict(X_test)"
   ]
  },
  {
   "cell_type": "code",
   "execution_count": 29,
   "id": "bb1afaba",
   "metadata": {},
   "outputs": [
    {
     "data": {
      "image/png": "[encoded data removed]",
      "text/plain": [
       "<Figure size 640x480 with 1 Axes>"
      ]
     },
     "metadata": {},
     "output_type": "display_data"
    }
   ],
   "source": [
    "# Create a plot that shows the regression line from the model on the test set\n",
    "\n",
    "plot_test = plt\n",
    "plot_test.scatter(X_test, y_test, color='gray', s = 15)\n",
    "plot_test.plot(X_test, y_predicted, color='red', linewidth =3)\n",
    "plot_test.title('Number of Listings vs Price of the Listing (Test)')\n",
    "plot_test.xlabel('Neighbourhood Count')\n",
    "plot_test.ylabel('Price')\n",
    "plot_test.show()"
   ]
  },
  {
   "cell_type": "markdown",
   "id": "f0e0a2f5",
   "metadata": {},
   "source": [
    "#### Based on the graph and the linear regression line that was plotted, this is not a good fit. The variables do not share any sort of relationship and a linear model is not the best way to predict any future values. I slightly knew this going into the regression analysis because of the intial scatter plot. \n",
    "#### With the dataset that I have and have been analyzing, I have found it hard to pin down any variable relationships that might have a positive correlation. It seems that most all of the variables in the data set do not have an effect on the pricing. This makes me think of other questions outside of the scope of this project (and my skill set at the moment), but there must be some factor that helps indicate the price of a listing. Things that come to mind would be the price of other similar properties in the neighborhood, social events or activities in the Denver area, age of the house/apartment, or amenities and the quality of furnishings. These are all pieces of information I do not have access to for this analysis. "
   ]
  },
  {
   "cell_type": "code",
   "execution_count": 30,
   "id": "8b9d7849",
   "metadata": {},
   "outputs": [],
   "source": [
    "# Create objects that contain the model summary statistics.\n",
    "\n",
    "rmse = mean_squared_error(y_test, y_predicted)\n",
    "r2 = r2_score(y_test, y_predicted)"
   ]
  },
  {
   "cell_type": "code",
   "execution_count": 31,
   "id": "5f332d74",
   "metadata": {},
   "outputs": [
    {
     "name": "stdout",
     "output_type": "stream",
     "text": [
      "Slope: [[0.17104005]]\n",
      "Mean squared error:  123669.82665789967\n",
      "R2 score:  0.0014869997411507407\n"
     ]
    }
   ],
   "source": [
    "# Print the model summary statistics\n",
    "\n",
    "print('Slope:' ,regression.coef_)\n",
    "print('Mean squared error: ', rmse)\n",
    "print('R2 score: ', r2)"
   ]
  },
  {
   "cell_type": "code",
   "execution_count": 32,
   "id": "c7341ae5",
   "metadata": {},
   "outputs": [
    {
     "data": {
      "text/plain": [
       "array([[178.14619995],\n",
       "       [184.47468177],\n",
       "       [172.67291837],\n",
       "       ...,\n",
       "       [201.06556655],\n",
       "       [172.67291837],\n",
       "       [173.69915867]])"
      ]
     },
     "execution_count": 32,
     "metadata": {},
     "output_type": "execute_result"
    }
   ],
   "source": [
    "y_predicted"
   ]
  },
  {
   "cell_type": "code",
   "execution_count": 33,
   "id": "40ba1ad4",
   "metadata": {},
   "outputs": [
    {
     "data": {
      "text/html": [
       "<div>\n",
       "<style scoped>\n",
       "    .dataframe tbody tr th:only-of-type {\n",
       "        vertical-align: middle;\n",
       "    }\n",
       "\n",
       "    .dataframe tbody tr th {\n",
       "        vertical-align: top;\n",
       "    }\n",
       "\n",
       "    .dataframe thead th {\n",
       "        text-align: right;\n",
       "    }\n",
       "</style>\n",
       "<table border=\"1\" class=\"dataframe\">\n",
       "  <thead>\n",
       "    <tr style=\"text-align: right;\">\n",
       "      <th></th>\n",
       "      <th>Actual</th>\n",
       "      <th>Predicted</th>\n",
       "    </tr>\n",
       "  </thead>\n",
       "  <tbody>\n",
       "    <tr>\n",
       "      <th>0</th>\n",
       "      <td>115.0</td>\n",
       "      <td>178.146200</td>\n",
       "    </tr>\n",
       "    <tr>\n",
       "      <th>1</th>\n",
       "      <td>71.0</td>\n",
       "      <td>184.474682</td>\n",
       "    </tr>\n",
       "    <tr>\n",
       "      <th>2</th>\n",
       "      <td>233.0</td>\n",
       "      <td>172.672918</td>\n",
       "    </tr>\n",
       "    <tr>\n",
       "      <th>3</th>\n",
       "      <td>126.0</td>\n",
       "      <td>175.067479</td>\n",
       "    </tr>\n",
       "    <tr>\n",
       "      <th>4</th>\n",
       "      <td>220.0</td>\n",
       "      <td>226.037414</td>\n",
       "    </tr>\n",
       "    <tr>\n",
       "      <th>...</th>\n",
       "      <td>...</td>\n",
       "      <td>...</td>\n",
       "    </tr>\n",
       "    <tr>\n",
       "      <th>1606</th>\n",
       "      <td>35.0</td>\n",
       "      <td>197.131645</td>\n",
       "    </tr>\n",
       "    <tr>\n",
       "      <th>1607</th>\n",
       "      <td>454.0</td>\n",
       "      <td>190.632124</td>\n",
       "    </tr>\n",
       "    <tr>\n",
       "      <th>1608</th>\n",
       "      <td>94.0</td>\n",
       "      <td>201.065567</td>\n",
       "    </tr>\n",
       "    <tr>\n",
       "      <th>1609</th>\n",
       "      <td>228.0</td>\n",
       "      <td>172.672918</td>\n",
       "    </tr>\n",
       "    <tr>\n",
       "      <th>1610</th>\n",
       "      <td>148.0</td>\n",
       "      <td>173.699159</td>\n",
       "    </tr>\n",
       "  </tbody>\n",
       "</table>\n",
       "<p>1611 rows × 2 columns</p>\n",
       "</div>"
      ],
      "text/plain": [
       "      Actual   Predicted\n",
       "0      115.0  178.146200\n",
       "1       71.0  184.474682\n",
       "2      233.0  172.672918\n",
       "3      126.0  175.067479\n",
       "4      220.0  226.037414\n",
       "...      ...         ...\n",
       "1606    35.0  197.131645\n",
       "1607   454.0  190.632124\n",
       "1608    94.0  201.065567\n",
       "1609   228.0  172.672918\n",
       "1610   148.0  173.699159\n",
       "\n",
       "[1611 rows x 2 columns]"
      ]
     },
     "execution_count": 33,
     "metadata": {},
     "output_type": "execute_result"
    }
   ],
   "source": [
    "data = pd.DataFrame({'Actual': y_test.flatten(), 'Predicted': y_predicted.flatten()})\n",
    "data"
   ]
  },
  {
   "cell_type": "markdown",
   "id": "1337b3cd",
   "metadata": {},
   "source": [
    "#### When looking at the numbers from the Slope, Mean squared error and the R2 score, the model performed terribly. It was not a good fit and did not indicate any sort of correlation between the two variables I selected. The Mean squared error of 123669.82 and R2 score of  0.0014 are extremely high and very close to 0 (respectively). Additionally, when I look at the actual and predicted values for 'price', I can see that the model is again way off. We need to go back to the drawing board and come up with a different model for the variables, or come up with new variables to analyze. \n",
    "#### I do not think that the data frame that I ran the model on has any bias associated with it. I excluded some really extreme values for 'price', but I do not consider that bias as they were extreme outliers and most likely incorrect data. I did keep values of <10000, and I can see that those are potentially affecting the model for the bonus regression test below, but removing them would subject the data to sample bias. "
   ]
  },
  {
   "cell_type": "markdown",
   "id": "49e3aef4",
   "metadata": {},
   "source": [
    "### Bonus Regression test "
   ]
  },
  {
   "cell_type": "code",
   "execution_count": 34,
   "id": "a47bdff8",
   "metadata": {},
   "outputs": [],
   "source": [
    "# Create another regression object\n",
    "regression2 = LinearRegression()"
   ]
  },
  {
   "cell_type": "code",
   "execution_count": 35,
   "id": "3738b6e5",
   "metadata": {},
   "outputs": [
    {
     "data": {
      "text/html": [
       "<style>#sk-container-id-2 {color: black;background-color: white;}#sk-container-id-2 pre{padding: 0;}#sk-container-id-2 div.sk-toggleable {background-color: white;}#sk-container-id-2 label.sk-toggleable__label {cursor: pointer;display: block;width: 100%;margin-bottom: 0;padding: 0.3em;box-sizing: border-box;text-align: center;}#sk-container-id-2 label.sk-toggleable__label-arrow:before {content: \"▸\";float: left;margin-right: 0.25em;color: #696969;}#sk-container-id-2 label.sk-toggleable__label-arrow:hover:before {color: black;}#sk-container-id-2 div.sk-estimator:hover label.sk-toggleable__label-arrow:before {color: black;}#sk-container-id-2 div.sk-toggleable__content {max-height: 0;max-width: 0;overflow: hidden;text-align: left;background-color: #f0f8ff;}#sk-container-id-2 div.sk-toggleable__content pre {margin: 0.2em;color: black;border-radius: 0.25em;background-color: #f0f8ff;}#sk-container-id-2 input.sk-toggleable__control:checked~div.sk-toggleable__content {max-height: 200px;max-width: 100%;overflow: auto;}#sk-container-id-2 input.sk-toggleable__control:checked~label.sk-toggleable__label-arrow:before {content: \"▾\";}#sk-container-id-2 div.sk-estimator input.sk-toggleable__control:checked~label.sk-toggleable__label {background-color: #d4ebff;}#sk-container-id-2 div.sk-label input.sk-toggleable__control:checked~label.sk-toggleable__label {background-color: #d4ebff;}#sk-container-id-2 input.sk-hidden--visually {border: 0;clip: rect(1px 1px 1px 1px);clip: rect(1px, 1px, 1px, 1px);height: 1px;margin: -1px;overflow: hidden;padding: 0;position: absolute;width: 1px;}#sk-container-id-2 div.sk-estimator {font-family: monospace;background-color: #f0f8ff;border: 1px dotted black;border-radius: 0.25em;box-sizing: border-box;margin-bottom: 0.5em;}#sk-container-id-2 div.sk-estimator:hover {background-color: #d4ebff;}#sk-container-id-2 div.sk-parallel-item::after {content: \"\";width: 100%;border-bottom: 1px solid gray;flex-grow: 1;}#sk-container-id-2 div.sk-label:hover label.sk-toggleable__label {background-color: #d4ebff;}#sk-container-id-2 div.sk-serial::before {content: \"\";position: absolute;border-left: 1px solid gray;box-sizing: border-box;top: 0;bottom: 0;left: 50%;z-index: 0;}#sk-container-id-2 div.sk-serial {display: flex;flex-direction: column;align-items: center;background-color: white;padding-right: 0.2em;padding-left: 0.2em;position: relative;}#sk-container-id-2 div.sk-item {position: relative;z-index: 1;}#sk-container-id-2 div.sk-parallel {display: flex;align-items: stretch;justify-content: center;background-color: white;position: relative;}#sk-container-id-2 div.sk-item::before, #sk-container-id-2 div.sk-parallel-item::before {content: \"\";position: absolute;border-left: 1px solid gray;box-sizing: border-box;top: 0;bottom: 0;left: 50%;z-index: -1;}#sk-container-id-2 div.sk-parallel-item {display: flex;flex-direction: column;z-index: 1;position: relative;background-color: white;}#sk-container-id-2 div.sk-parallel-item:first-child::after {align-self: flex-end;width: 50%;}#sk-container-id-2 div.sk-parallel-item:last-child::after {align-self: flex-start;width: 50%;}#sk-container-id-2 div.sk-parallel-item:only-child::after {width: 0;}#sk-container-id-2 div.sk-dashed-wrapped {border: 1px dashed gray;margin: 0 0.4em 0.5em 0.4em;box-sizing: border-box;padding-bottom: 0.4em;background-color: white;}#sk-container-id-2 div.sk-label label {font-family: monospace;font-weight: bold;display: inline-block;line-height: 1.2em;}#sk-container-id-2 div.sk-label-container {text-align: center;}#sk-container-id-2 div.sk-container {/* jupyter's `normalize.less` sets `[hidden] { display: none; }` but bootstrap.min.css set `[hidden] { display: none !important; }` so we also need the `!important` here to be able to override the default hidden behavior on the sphinx rendered scikit-learn.org. See: https://github.com/scikit-learn/scikit-learn/issues/21755 */display: inline-block !important;position: relative;}#sk-container-id-2 div.sk-text-repr-fallback {display: none;}</style><div id=\"sk-container-id-2\" class=\"sk-top-container\"><div class=\"sk-text-repr-fallback\"><pre>LinearRegression()</pre><b>In a Jupyter environment, please rerun this cell to show the HTML representation or trust the notebook. <br />On GitHub, the HTML representation is unable to render, please try loading this page with nbviewer.org.</b></div><div class=\"sk-container\" hidden><div class=\"sk-item\"><div class=\"sk-estimator sk-toggleable\"><input class=\"sk-toggleable__control sk-hidden--visually\" id=\"sk-estimator-id-2\" type=\"checkbox\" checked><label for=\"sk-estimator-id-2\" class=\"sk-toggleable__label sk-toggleable__label-arrow\">LinearRegression</label><div class=\"sk-toggleable__content\"><pre>LinearRegression()</pre></div></div></div></div></div>"
      ],
      "text/plain": [
       "LinearRegression()"
      ]
     },
     "execution_count": 35,
     "metadata": {},
     "output_type": "execute_result"
    }
   ],
   "source": [
    "# Fit the object to the training set.\n",
    "regression2.fit(X2_train, y2_train)"
   ]
  },
  {
   "cell_type": "code",
   "execution_count": 36,
   "id": "8a68fb79",
   "metadata": {},
   "outputs": [],
   "source": [
    "# Predict the values of y using X\n",
    "y2_predicted = regression2.predict(X2_test)"
   ]
  },
  {
   "cell_type": "code",
   "execution_count": 37,
   "id": "191e1683",
   "metadata": {},
   "outputs": [
    {
     "data": {
      "image/png": "[encoded data removed]",
      "text/plain": [
       "<Figure size 640x480 with 1 Axes>"
      ]
     },
     "metadata": {},
     "output_type": "display_data"
    }
   ],
   "source": [
    "# Create a plot that shows the regression line from the model on the test set\n",
    "\n",
    "plot_test = plt\n",
    "plot_test.scatter(X2_test, y2_test, color='gray', s = 15)\n",
    "plot_test.plot(X2_test, y2_predicted, color='red', linewidth =3)\n",
    "plot_test.title('Accommodation vs Price of the Listing (Test)')\n",
    "plot_test.xlabel('Accommodation')\n",
    "plot_test.ylabel('Price')\n",
    "plot_test.show()"
   ]
  },
  {
   "cell_type": "code",
   "execution_count": 38,
   "id": "f3f86f2c",
   "metadata": {},
   "outputs": [],
   "source": [
    "# Create objects that contain the model summary statistics.\n",
    "\n",
    "rmse2 = mean_squared_error(y2_test, y2_predicted)\n",
    "r2_2 = r2_score(y2_test, y2_predicted)"
   ]
  },
  {
   "cell_type": "code",
   "execution_count": 39,
   "id": "326ca8c5",
   "metadata": {},
   "outputs": [
    {
     "name": "stdout",
     "output_type": "stream",
     "text": [
      "Slope: [[0.17104005]]\n",
      "Mean squared error:  115214.7076466469\n",
      "R2 score:  0.06975382342503711\n"
     ]
    }
   ],
   "source": [
    "# Print the model summary statistics\n",
    "\n",
    "print('Slope:' ,regression.coef_)\n",
    "print('Mean squared error: ', rmse2)\n",
    "print('R2 score: ', r2_2)"
   ]
  }
 ],
 "metadata": {
  "kernelspec": {
   "display_name": "Python 3 (ipykernel)",
   "language": "python",
   "name": "python3"
  },
  "language_info": {
   "codemirror_mode": {
    "name": "ipython",
    "version": 3
   },
   "file_extension": ".py",
   "mimetype": "text/x-python",
   "name": "python",
   "nbconvert_exporter": "python",
   "pygments_lexer": "ipython3",
   "version": "3.10.9"
  }
 },
 "nbformat": 4,
 "nbformat_minor": 5
}
