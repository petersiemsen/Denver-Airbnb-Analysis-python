{
 "cells": [
  {
   "cell_type": "markdown",
   "id": "bd185a57",
   "metadata": {},
   "source": [
    "# Exercise 6.5 - TASK \n",
    "\n",
    "#### 1. Importing libraries and dataset\n",
    "#### 2. Data wrangling to prep for analysis\n",
    "#### 3. The elbow technique\n",
    "#### 4. k-means clustering"
   ]
  },
  {
   "cell_type": "markdown",
   "id": "ff1a303e",
   "metadata": {},
   "source": [
    "## 01. Importing libraries and dataset"
   ]
  },
  {
   "cell_type": "code",
   "execution_count": 1,
   "id": "b27acbec",
   "metadata": {},
   "outputs": [],
   "source": [
    "# Importing our libraries\n",
    "\n",
    "import pandas as pd\n",
    "import numpy as np\n",
    "import seaborn as sns\n",
    "import matplotlib\n",
    "import matplotlib.pyplot as plt\n",
    "import os\n",
    "import sklearn\n",
    "from sklearn.cluster import KMeans \n",
    "import pylab as pl"
   ]
  },
  {
   "cell_type": "code",
   "execution_count": 2,
   "id": "2dfa4a3e",
   "metadata": {},
   "outputs": [],
   "source": [
    "# Set max_columns to None to display all columns\n",
    "pd.set_option('display.max_columns', None)"
   ]
  },
  {
   "cell_type": "code",
   "execution_count": 3,
   "id": "e220a591",
   "metadata": {},
   "outputs": [],
   "source": [
    "# Creating the default 'path' for easier reference\n",
    "path = r'C:\\Users\\peter\\Desktop\\Career Foundry - Data Analyst\\Data Immersion\\Achievement 6 - Advanced Analytics\\Achievement 6 - Project'"
   ]
  },
  {
   "cell_type": "code",
   "execution_count": 4,
   "id": "729deaf1",
   "metadata": {},
   "outputs": [],
   "source": [
    "# Importing the listings dataset\n",
    "df = pd.read_pickle(os.path.join(path, '02. Data\\Modified\\listings_clean.pkl'))"
   ]
  },
  {
   "cell_type": "code",
   "execution_count": 5,
   "id": "db881372",
   "metadata": {},
   "outputs": [
    {
     "data": {
      "text/html": [
       "<div>\n",
       "<style scoped>\n",
       "    .dataframe tbody tr th:only-of-type {\n",
       "        vertical-align: middle;\n",
       "    }\n",
       "\n",
       "    .dataframe tbody tr th {\n",
       "        vertical-align: top;\n",
       "    }\n",
       "\n",
       "    .dataframe thead th {\n",
       "        text-align: right;\n",
       "    }\n",
       "</style>\n",
       "<table border=\"1\" class=\"dataframe\">\n",
       "  <thead>\n",
       "    <tr style=\"text-align: right;\">\n",
       "      <th></th>\n",
       "      <th>id</th>\n",
       "      <th>host_id</th>\n",
       "      <th>host_since</th>\n",
       "      <th>host_location</th>\n",
       "      <th>host_response_time</th>\n",
       "      <th>host_response_rate</th>\n",
       "      <th>host_acceptance_rate</th>\n",
       "      <th>host_is_superhost</th>\n",
       "      <th>host_neighbourhood</th>\n",
       "      <th>host_listings_count</th>\n",
       "      <th>host_total_listings_count</th>\n",
       "      <th>neighbourhood</th>\n",
       "      <th>neighbourhood_cleansed</th>\n",
       "      <th>latitude</th>\n",
       "      <th>longitude</th>\n",
       "      <th>property_type</th>\n",
       "      <th>room_type</th>\n",
       "      <th>accommodates</th>\n",
       "      <th>bathrooms_text</th>\n",
       "      <th>bedrooms</th>\n",
       "      <th>beds</th>\n",
       "      <th>price</th>\n",
       "      <th>minimum_nights</th>\n",
       "      <th>maximum_nights</th>\n",
       "      <th>minimum_minimum_nights</th>\n",
       "      <th>maximum_minimum_nights</th>\n",
       "      <th>minimum_maximum_nights</th>\n",
       "      <th>maximum_maximum_nights</th>\n",
       "      <th>minimum_nights_avg_ntm</th>\n",
       "      <th>maximum_nights_avg_ntm</th>\n",
       "      <th>has_availability</th>\n",
       "      <th>availability_30</th>\n",
       "      <th>availability_60</th>\n",
       "      <th>availability_90</th>\n",
       "      <th>availability_365</th>\n",
       "      <th>number_of_reviews</th>\n",
       "      <th>number_of_reviews_ltm</th>\n",
       "      <th>number_of_reviews_l30d</th>\n",
       "      <th>first_review</th>\n",
       "      <th>last_review</th>\n",
       "      <th>review_scores_rating</th>\n",
       "      <th>review_scores_accuracy</th>\n",
       "      <th>review_scores_cleanliness</th>\n",
       "      <th>review_scores_checkin</th>\n",
       "      <th>review_scores_communication</th>\n",
       "      <th>review_scores_location</th>\n",
       "      <th>review_scores_value</th>\n",
       "      <th>reviews_per_month</th>\n",
       "    </tr>\n",
       "  </thead>\n",
       "  <tbody>\n",
       "    <tr>\n",
       "      <th>0</th>\n",
       "      <td>360.0</td>\n",
       "      <td>666</td>\n",
       "      <td>2008-07-08</td>\n",
       "      <td>Denver, CO</td>\n",
       "      <td>within an hour</td>\n",
       "      <td>100%</td>\n",
       "      <td>96%</td>\n",
       "      <td>t</td>\n",
       "      <td>Highland</td>\n",
       "      <td>4</td>\n",
       "      <td>4</td>\n",
       "      <td>Denver, Colorado, United States</td>\n",
       "      <td>Highland</td>\n",
       "      <td>39.766415</td>\n",
       "      <td>-105.002098</td>\n",
       "      <td>Entire guesthouse</td>\n",
       "      <td>Entire home/apt</td>\n",
       "      <td>3</td>\n",
       "      <td>1 bath</td>\n",
       "      <td>2.0</td>\n",
       "      <td>2.0</td>\n",
       "      <td>136.0</td>\n",
       "      <td>30</td>\n",
       "      <td>60</td>\n",
       "      <td>30</td>\n",
       "      <td>30</td>\n",
       "      <td>60</td>\n",
       "      <td>60</td>\n",
       "      <td>30.0</td>\n",
       "      <td>60.0</td>\n",
       "      <td>t</td>\n",
       "      <td>0</td>\n",
       "      <td>23</td>\n",
       "      <td>53</td>\n",
       "      <td>143</td>\n",
       "      <td>178</td>\n",
       "      <td>8</td>\n",
       "      <td>1</td>\n",
       "      <td>2018-08-13</td>\n",
       "      <td>2023-06-16</td>\n",
       "      <td>4.99</td>\n",
       "      <td>4.99</td>\n",
       "      <td>4.96</td>\n",
       "      <td>5.00</td>\n",
       "      <td>5.00</td>\n",
       "      <td>5.00</td>\n",
       "      <td>4.91</td>\n",
       "      <td>2.99</td>\n",
       "    </tr>\n",
       "    <tr>\n",
       "      <th>1</th>\n",
       "      <td>364.0</td>\n",
       "      <td>783</td>\n",
       "      <td>2008-07-11</td>\n",
       "      <td>Denver, CO</td>\n",
       "      <td>nan</td>\n",
       "      <td>nan</td>\n",
       "      <td>nan</td>\n",
       "      <td>f</td>\n",
       "      <td>Five Points</td>\n",
       "      <td>1</td>\n",
       "      <td>1</td>\n",
       "      <td>Denver, Colorado, United States</td>\n",
       "      <td>Five Points</td>\n",
       "      <td>39.766720</td>\n",
       "      <td>-104.979060</td>\n",
       "      <td>Entire loft</td>\n",
       "      <td>Entire home/apt</td>\n",
       "      <td>3</td>\n",
       "      <td>1.5 baths</td>\n",
       "      <td>1.0</td>\n",
       "      <td>1.0</td>\n",
       "      <td>179.0</td>\n",
       "      <td>185</td>\n",
       "      <td>365</td>\n",
       "      <td>185</td>\n",
       "      <td>185</td>\n",
       "      <td>365</td>\n",
       "      <td>365</td>\n",
       "      <td>185.0</td>\n",
       "      <td>365.0</td>\n",
       "      <td>t</td>\n",
       "      <td>23</td>\n",
       "      <td>53</td>\n",
       "      <td>83</td>\n",
       "      <td>358</td>\n",
       "      <td>87</td>\n",
       "      <td>0</td>\n",
       "      <td>0</td>\n",
       "      <td>2009-05-18</td>\n",
       "      <td>2016-04-26</td>\n",
       "      <td>4.85</td>\n",
       "      <td>4.78</td>\n",
       "      <td>4.81</td>\n",
       "      <td>4.95</td>\n",
       "      <td>4.96</td>\n",
       "      <td>4.65</td>\n",
       "      <td>4.71</td>\n",
       "      <td>0.51</td>\n",
       "    </tr>\n",
       "    <tr>\n",
       "      <th>2</th>\n",
       "      <td>590.0</td>\n",
       "      <td>933</td>\n",
       "      <td>2008-07-21</td>\n",
       "      <td>Denver, CO</td>\n",
       "      <td>within an hour</td>\n",
       "      <td>100%</td>\n",
       "      <td>97%</td>\n",
       "      <td>nan</td>\n",
       "      <td>North Park Hill</td>\n",
       "      <td>2</td>\n",
       "      <td>2</td>\n",
       "      <td>Denver, Colorado, United States</td>\n",
       "      <td>North Park Hill</td>\n",
       "      <td>39.755110</td>\n",
       "      <td>-104.911090</td>\n",
       "      <td>Private room in home</td>\n",
       "      <td>Private room</td>\n",
       "      <td>3</td>\n",
       "      <td>1 shared bath</td>\n",
       "      <td>NaN</td>\n",
       "      <td>1.0</td>\n",
       "      <td>84.0</td>\n",
       "      <td>1</td>\n",
       "      <td>300</td>\n",
       "      <td>1</td>\n",
       "      <td>1</td>\n",
       "      <td>300</td>\n",
       "      <td>300</td>\n",
       "      <td>1.0</td>\n",
       "      <td>300.0</td>\n",
       "      <td>t</td>\n",
       "      <td>15</td>\n",
       "      <td>45</td>\n",
       "      <td>63</td>\n",
       "      <td>242</td>\n",
       "      <td>702</td>\n",
       "      <td>48</td>\n",
       "      <td>7</td>\n",
       "      <td>2009-03-29</td>\n",
       "      <td>2023-06-24</td>\n",
       "      <td>4.85</td>\n",
       "      <td>4.79</td>\n",
       "      <td>4.58</td>\n",
       "      <td>4.93</td>\n",
       "      <td>4.95</td>\n",
       "      <td>4.75</td>\n",
       "      <td>4.86</td>\n",
       "      <td>4.04</td>\n",
       "    </tr>\n",
       "    <tr>\n",
       "      <th>3</th>\n",
       "      <td>592.0</td>\n",
       "      <td>933</td>\n",
       "      <td>2008-07-21</td>\n",
       "      <td>Denver, CO</td>\n",
       "      <td>within an hour</td>\n",
       "      <td>100%</td>\n",
       "      <td>97%</td>\n",
       "      <td>nan</td>\n",
       "      <td>North Park Hill</td>\n",
       "      <td>2</td>\n",
       "      <td>2</td>\n",
       "      <td>nan</td>\n",
       "      <td>North Park Hill</td>\n",
       "      <td>39.754810</td>\n",
       "      <td>-104.911060</td>\n",
       "      <td>Private room in home</td>\n",
       "      <td>Private room</td>\n",
       "      <td>2</td>\n",
       "      <td>1 shared bath</td>\n",
       "      <td>NaN</td>\n",
       "      <td>1.0</td>\n",
       "      <td>65.0</td>\n",
       "      <td>28</td>\n",
       "      <td>365</td>\n",
       "      <td>28</td>\n",
       "      <td>28</td>\n",
       "      <td>365</td>\n",
       "      <td>365</td>\n",
       "      <td>28.0</td>\n",
       "      <td>365.0</td>\n",
       "      <td>t</td>\n",
       "      <td>8</td>\n",
       "      <td>8</td>\n",
       "      <td>8</td>\n",
       "      <td>174</td>\n",
       "      <td>168</td>\n",
       "      <td>1</td>\n",
       "      <td>1</td>\n",
       "      <td>2009-02-21</td>\n",
       "      <td>2023-06-24</td>\n",
       "      <td>4.87</td>\n",
       "      <td>4.75</td>\n",
       "      <td>4.55</td>\n",
       "      <td>4.94</td>\n",
       "      <td>4.94</td>\n",
       "      <td>4.81</td>\n",
       "      <td>4.86</td>\n",
       "      <td>0.96</td>\n",
       "    </tr>\n",
       "    <tr>\n",
       "      <th>4</th>\n",
       "      <td>1940.0</td>\n",
       "      <td>2150</td>\n",
       "      <td>2008-08-16</td>\n",
       "      <td>Denver, CO</td>\n",
       "      <td>within an hour</td>\n",
       "      <td>100%</td>\n",
       "      <td>100%</td>\n",
       "      <td>t</td>\n",
       "      <td>Baker</td>\n",
       "      <td>1</td>\n",
       "      <td>1</td>\n",
       "      <td>Denver, Colorado, United States</td>\n",
       "      <td>Baker</td>\n",
       "      <td>39.720486</td>\n",
       "      <td>-104.997520</td>\n",
       "      <td>Entire guesthouse</td>\n",
       "      <td>Entire home/apt</td>\n",
       "      <td>2</td>\n",
       "      <td>1 bath</td>\n",
       "      <td>NaN</td>\n",
       "      <td>1.0</td>\n",
       "      <td>111.0</td>\n",
       "      <td>1</td>\n",
       "      <td>120</td>\n",
       "      <td>1</td>\n",
       "      <td>1</td>\n",
       "      <td>1125</td>\n",
       "      <td>1125</td>\n",
       "      <td>1.0</td>\n",
       "      <td>1125.0</td>\n",
       "      <td>t</td>\n",
       "      <td>6</td>\n",
       "      <td>22</td>\n",
       "      <td>44</td>\n",
       "      <td>129</td>\n",
       "      <td>132</td>\n",
       "      <td>35</td>\n",
       "      <td>2</td>\n",
       "      <td>2017-01-24</td>\n",
       "      <td>2023-06-04</td>\n",
       "      <td>4.95</td>\n",
       "      <td>4.94</td>\n",
       "      <td>4.97</td>\n",
       "      <td>4.98</td>\n",
       "      <td>4.98</td>\n",
       "      <td>4.91</td>\n",
       "      <td>4.86</td>\n",
       "      <td>1.69</td>\n",
       "    </tr>\n",
       "  </tbody>\n",
       "</table>\n",
       "</div>"
      ],
      "text/plain": [
       "       id  host_id host_since host_location host_response_time  \\\n",
       "0   360.0      666 2008-07-08    Denver, CO     within an hour   \n",
       "1   364.0      783 2008-07-11    Denver, CO                nan   \n",
       "2   590.0      933 2008-07-21    Denver, CO     within an hour   \n",
       "3   592.0      933 2008-07-21    Denver, CO     within an hour   \n",
       "4  1940.0     2150 2008-08-16    Denver, CO     within an hour   \n",
       "\n",
       "  host_response_rate host_acceptance_rate host_is_superhost  \\\n",
       "0               100%                  96%                 t   \n",
       "1                nan                  nan                 f   \n",
       "2               100%                  97%               nan   \n",
       "3               100%                  97%               nan   \n",
       "4               100%                 100%                 t   \n",
       "\n",
       "  host_neighbourhood  host_listings_count  host_total_listings_count  \\\n",
       "0           Highland                    4                          4   \n",
       "1        Five Points                    1                          1   \n",
       "2    North Park Hill                    2                          2   \n",
       "3    North Park Hill                    2                          2   \n",
       "4              Baker                    1                          1   \n",
       "\n",
       "                     neighbourhood neighbourhood_cleansed   latitude  \\\n",
       "0  Denver, Colorado, United States               Highland  39.766415   \n",
       "1  Denver, Colorado, United States            Five Points  39.766720   \n",
       "2  Denver, Colorado, United States        North Park Hill  39.755110   \n",
       "3                              nan        North Park Hill  39.754810   \n",
       "4  Denver, Colorado, United States                  Baker  39.720486   \n",
       "\n",
       "    longitude         property_type        room_type  accommodates  \\\n",
       "0 -105.002098     Entire guesthouse  Entire home/apt             3   \n",
       "1 -104.979060           Entire loft  Entire home/apt             3   \n",
       "2 -104.911090  Private room in home     Private room             3   \n",
       "3 -104.911060  Private room in home     Private room             2   \n",
       "4 -104.997520     Entire guesthouse  Entire home/apt             2   \n",
       "\n",
       "  bathrooms_text  bedrooms  beds  price  minimum_nights  maximum_nights  \\\n",
       "0         1 bath       2.0   2.0  136.0              30              60   \n",
       "1      1.5 baths       1.0   1.0  179.0             185             365   \n",
       "2  1 shared bath       NaN   1.0   84.0               1             300   \n",
       "3  1 shared bath       NaN   1.0   65.0              28             365   \n",
       "4         1 bath       NaN   1.0  111.0               1             120   \n",
       "\n",
       "   minimum_minimum_nights  maximum_minimum_nights  minimum_maximum_nights  \\\n",
       "0                      30                      30                      60   \n",
       "1                     185                     185                     365   \n",
       "2                       1                       1                     300   \n",
       "3                      28                      28                     365   \n",
       "4                       1                       1                    1125   \n",
       "\n",
       "   maximum_maximum_nights  minimum_nights_avg_ntm  maximum_nights_avg_ntm  \\\n",
       "0                      60                    30.0                    60.0   \n",
       "1                     365                   185.0                   365.0   \n",
       "2                     300                     1.0                   300.0   \n",
       "3                     365                    28.0                   365.0   \n",
       "4                    1125                     1.0                  1125.0   \n",
       "\n",
       "  has_availability  availability_30  availability_60  availability_90  \\\n",
       "0                t                0               23               53   \n",
       "1                t               23               53               83   \n",
       "2                t               15               45               63   \n",
       "3                t                8                8                8   \n",
       "4                t                6               22               44   \n",
       "\n",
       "   availability_365  number_of_reviews  number_of_reviews_ltm  \\\n",
       "0               143                178                      8   \n",
       "1               358                 87                      0   \n",
       "2               242                702                     48   \n",
       "3               174                168                      1   \n",
       "4               129                132                     35   \n",
       "\n",
       "   number_of_reviews_l30d first_review last_review  review_scores_rating  \\\n",
       "0                       1   2018-08-13  2023-06-16                  4.99   \n",
       "1                       0   2009-05-18  2016-04-26                  4.85   \n",
       "2                       7   2009-03-29  2023-06-24                  4.85   \n",
       "3                       1   2009-02-21  2023-06-24                  4.87   \n",
       "4                       2   2017-01-24  2023-06-04                  4.95   \n",
       "\n",
       "   review_scores_accuracy  review_scores_cleanliness  review_scores_checkin  \\\n",
       "0                    4.99                       4.96                   5.00   \n",
       "1                    4.78                       4.81                   4.95   \n",
       "2                    4.79                       4.58                   4.93   \n",
       "3                    4.75                       4.55                   4.94   \n",
       "4                    4.94                       4.97                   4.98   \n",
       "\n",
       "   review_scores_communication  review_scores_location  review_scores_value  \\\n",
       "0                         5.00                    5.00                 4.91   \n",
       "1                         4.96                    4.65                 4.71   \n",
       "2                         4.95                    4.75                 4.86   \n",
       "3                         4.94                    4.81                 4.86   \n",
       "4                         4.98                    4.91                 4.86   \n",
       "\n",
       "   reviews_per_month  \n",
       "0               2.99  \n",
       "1               0.51  \n",
       "2               4.04  \n",
       "3               0.96  \n",
       "4               1.69  "
      ]
     },
     "execution_count": 5,
     "metadata": {},
     "output_type": "execute_result"
    }
   ],
   "source": [
    "df.head()"
   ]
  },
  {
   "cell_type": "markdown",
   "id": "d2824c17",
   "metadata": {},
   "source": [
    "## 02. Wrangling the data "
   ]
  },
  {
   "cell_type": "code",
   "execution_count": 6,
   "id": "49dae193",
   "metadata": {},
   "outputs": [],
   "source": [
    "# Creating a list then subset to include only the columns to analyze with our clustering algorithim\n",
    "df_wrangle = ['price','accommodates','beds','review_scores_rating']"
   ]
  },
  {
   "cell_type": "code",
   "execution_count": 7,
   "id": "b10f842c",
   "metadata": {},
   "outputs": [],
   "source": [
    "# Creating the subset dataframe\n",
    "df2 = df[df_wrangle]"
   ]
  },
  {
   "cell_type": "code",
   "execution_count": 8,
   "id": "bd752993",
   "metadata": {},
   "outputs": [
    {
     "data": {
      "text/html": [
       "<div>\n",
       "<style scoped>\n",
       "    .dataframe tbody tr th:only-of-type {\n",
       "        vertical-align: middle;\n",
       "    }\n",
       "\n",
       "    .dataframe tbody tr th {\n",
       "        vertical-align: top;\n",
       "    }\n",
       "\n",
       "    .dataframe thead th {\n",
       "        text-align: right;\n",
       "    }\n",
       "</style>\n",
       "<table border=\"1\" class=\"dataframe\">\n",
       "  <thead>\n",
       "    <tr style=\"text-align: right;\">\n",
       "      <th></th>\n",
       "      <th>price</th>\n",
       "      <th>accommodates</th>\n",
       "      <th>beds</th>\n",
       "      <th>review_scores_rating</th>\n",
       "    </tr>\n",
       "  </thead>\n",
       "  <tbody>\n",
       "    <tr>\n",
       "      <th>0</th>\n",
       "      <td>136.0</td>\n",
       "      <td>3</td>\n",
       "      <td>2.0</td>\n",
       "      <td>4.99</td>\n",
       "    </tr>\n",
       "    <tr>\n",
       "      <th>1</th>\n",
       "      <td>179.0</td>\n",
       "      <td>3</td>\n",
       "      <td>1.0</td>\n",
       "      <td>4.85</td>\n",
       "    </tr>\n",
       "    <tr>\n",
       "      <th>2</th>\n",
       "      <td>84.0</td>\n",
       "      <td>3</td>\n",
       "      <td>1.0</td>\n",
       "      <td>4.85</td>\n",
       "    </tr>\n",
       "    <tr>\n",
       "      <th>3</th>\n",
       "      <td>65.0</td>\n",
       "      <td>2</td>\n",
       "      <td>1.0</td>\n",
       "      <td>4.87</td>\n",
       "    </tr>\n",
       "    <tr>\n",
       "      <th>4</th>\n",
       "      <td>111.0</td>\n",
       "      <td>2</td>\n",
       "      <td>1.0</td>\n",
       "      <td>4.95</td>\n",
       "    </tr>\n",
       "  </tbody>\n",
       "</table>\n",
       "</div>"
      ],
      "text/plain": [
       "   price  accommodates  beds  review_scores_rating\n",
       "0  136.0             3   2.0                  4.99\n",
       "1  179.0             3   1.0                  4.85\n",
       "2   84.0             3   1.0                  4.85\n",
       "3   65.0             2   1.0                  4.87\n",
       "4  111.0             2   1.0                  4.95"
      ]
     },
     "execution_count": 8,
     "metadata": {},
     "output_type": "execute_result"
    }
   ],
   "source": [
    "df2.head()"
   ]
  },
  {
   "cell_type": "code",
   "execution_count": 9,
   "id": "2287ef67",
   "metadata": {},
   "outputs": [
    {
     "data": {
      "text/plain": [
       "(5378, 4)"
      ]
     },
     "execution_count": 9,
     "metadata": {},
     "output_type": "execute_result"
    }
   ],
   "source": [
    "df2.shape"
   ]
  },
  {
   "cell_type": "code",
   "execution_count": 10,
   "id": "bf6a570a",
   "metadata": {},
   "outputs": [
    {
     "name": "stdout",
     "output_type": "stream",
     "text": [
      "price                     0\n",
      "accommodates              0\n",
      "beds                     42\n",
      "review_scores_rating    858\n",
      "dtype: int64\n"
     ]
    }
   ],
   "source": [
    "# Checking for null values in all columns\n",
    "null_value_counts = df2.isnull().sum()\n",
    "print(null_value_counts)"
   ]
  },
  {
   "cell_type": "code",
   "execution_count": 11,
   "id": "d9757b94",
   "metadata": {},
   "outputs": [
    {
     "data": {
      "text/plain": [
       "(5367, 4)"
      ]
     },
     "execution_count": 11,
     "metadata": {},
     "output_type": "execute_result"
    }
   ],
   "source": [
    "# Removing the listings with a price < 10000 and > 0.\n",
    "df2 = df2[(df2['price'] <10000) & (df2['price'] >0)]\n",
    "df2.shape"
   ]
  },
  {
   "cell_type": "code",
   "execution_count": 12,
   "id": "e99f8d0d",
   "metadata": {},
   "outputs": [
    {
     "data": {
      "text/plain": [
       "(5326, 4)"
      ]
     },
     "execution_count": 12,
     "metadata": {},
     "output_type": "execute_result"
    }
   ],
   "source": [
    "# Removing the listings that have a null value for # of beds\n",
    "df2 = df2[df2['beds'].notna()]\n",
    "df2.shape"
   ]
  },
  {
   "cell_type": "code",
   "execution_count": 13,
   "id": "71e4741c",
   "metadata": {},
   "outputs": [
    {
     "data": {
      "text/plain": [
       "4.82710426434472"
      ]
     },
     "execution_count": 13,
     "metadata": {},
     "output_type": "execute_result"
    }
   ],
   "source": [
    "# Checkign the mean value to see if it makes sense to replace the NaN values with \n",
    "mean_value = df2['review_scores_rating'].mean()\n",
    "mean_value"
   ]
  },
  {
   "cell_type": "code",
   "execution_count": 14,
   "id": "c57407d8",
   "metadata": {
    "scrolled": false
   },
   "outputs": [],
   "source": [
    "# Changing all of the null review scores to the mean value for the purposes of this analysis\n",
    "df2['review_scores_rating'] = df2['review_scores_rating'].fillna(mean_value)"
   ]
  },
  {
   "cell_type": "code",
   "execution_count": 15,
   "id": "4a134330",
   "metadata": {},
   "outputs": [
    {
     "data": {
      "text/plain": [
       "price                   0\n",
       "accommodates            0\n",
       "beds                    0\n",
       "review_scores_rating    0\n",
       "dtype: int64"
      ]
     },
     "execution_count": 15,
     "metadata": {},
     "output_type": "execute_result"
    }
   ],
   "source": [
    "# Checking for null values in all columns\n",
    "df2.isnull().sum()"
   ]
  },
  {
   "cell_type": "code",
   "execution_count": 16,
   "id": "cb55bb07",
   "metadata": {},
   "outputs": [],
   "source": [
    "# Creating another subset for listings that have a price < 4000\n",
    "df3 = df2[(df2['price'] <4000) & (df2['price'] >0)]\n",
    "\n",
    "# Removing the listings that have a null value for # of beds\n",
    "df3 = df3[df3['beds'].notna()]"
   ]
  },
  {
   "cell_type": "code",
   "execution_count": 17,
   "id": "91f1339f",
   "metadata": {},
   "outputs": [
    {
     "data": {
      "text/plain": [
       "price                   0\n",
       "accommodates            0\n",
       "beds                    0\n",
       "review_scores_rating    0\n",
       "dtype: int64"
      ]
     },
     "execution_count": 17,
     "metadata": {},
     "output_type": "execute_result"
    }
   ],
   "source": [
    "# Checking for null values in all columns\n",
    "df3.isnull().sum()"
   ]
  },
  {
   "cell_type": "markdown",
   "id": "fc9fbbdb",
   "metadata": {},
   "source": [
    "## 03. The elbow technique"
   ]
  },
  {
   "cell_type": "code",
   "execution_count": 18,
   "id": "fb815469",
   "metadata": {},
   "outputs": [],
   "source": [
    "num_cl = range(1, 10)\n",
    "kmeans = [KMeans(n_clusters=i) for i in num_cl]"
   ]
  },
  {
   "cell_type": "code",
   "execution_count": 19,
   "id": "d37a9f8c",
   "metadata": {
    "scrolled": true
   },
   "outputs": [
    {
     "name": "stderr",
     "output_type": "stream",
     "text": [
      "C:\\Users\\peter\\anaconda3\\lib\\site-packages\\sklearn\\cluster\\_kmeans.py:870: FutureWarning: The default value of `n_init` will change from 10 to 'auto' in 1.4. Set the value of `n_init` explicitly to suppress the warning\n",
      "  warnings.warn(\n",
      "C:\\Users\\peter\\anaconda3\\lib\\site-packages\\sklearn\\cluster\\_kmeans.py:870: FutureWarning: The default value of `n_init` will change from 10 to 'auto' in 1.4. Set the value of `n_init` explicitly to suppress the warning\n",
      "  warnings.warn(\n",
      "C:\\Users\\peter\\anaconda3\\lib\\site-packages\\sklearn\\cluster\\_kmeans.py:870: FutureWarning: The default value of `n_init` will change from 10 to 'auto' in 1.4. Set the value of `n_init` explicitly to suppress the warning\n",
      "  warnings.warn(\n",
      "C:\\Users\\peter\\anaconda3\\lib\\site-packages\\sklearn\\cluster\\_kmeans.py:870: FutureWarning: The default value of `n_init` will change from 10 to 'auto' in 1.4. Set the value of `n_init` explicitly to suppress the warning\n",
      "  warnings.warn(\n",
      "C:\\Users\\peter\\anaconda3\\lib\\site-packages\\sklearn\\cluster\\_kmeans.py:870: FutureWarning: The default value of `n_init` will change from 10 to 'auto' in 1.4. Set the value of `n_init` explicitly to suppress the warning\n",
      "  warnings.warn(\n",
      "C:\\Users\\peter\\anaconda3\\lib\\site-packages\\sklearn\\cluster\\_kmeans.py:870: FutureWarning: The default value of `n_init` will change from 10 to 'auto' in 1.4. Set the value of `n_init` explicitly to suppress the warning\n",
      "  warnings.warn(\n",
      "C:\\Users\\peter\\anaconda3\\lib\\site-packages\\sklearn\\cluster\\_kmeans.py:870: FutureWarning: The default value of `n_init` will change from 10 to 'auto' in 1.4. Set the value of `n_init` explicitly to suppress the warning\n",
      "  warnings.warn(\n",
      "C:\\Users\\peter\\anaconda3\\lib\\site-packages\\sklearn\\cluster\\_kmeans.py:870: FutureWarning: The default value of `n_init` will change from 10 to 'auto' in 1.4. Set the value of `n_init` explicitly to suppress the warning\n",
      "  warnings.warn(\n",
      "C:\\Users\\peter\\anaconda3\\lib\\site-packages\\sklearn\\cluster\\_kmeans.py:870: FutureWarning: The default value of `n_init` will change from 10 to 'auto' in 1.4. Set the value of `n_init` explicitly to suppress the warning\n",
      "  warnings.warn(\n"
     ]
    },
    {
     "data": {
      "text/plain": [
       "[-402348711.8758275,\n",
       " -204729809.3857884,\n",
       " -108610775.01093735,\n",
       " -67444730.07508492,\n",
       " -45149546.14110554,\n",
       " -32048150.75355354,\n",
       " -22366057.045256082,\n",
       " -17072767.12263035,\n",
       " -12575756.62263035]"
      ]
     },
     "execution_count": 19,
     "metadata": {},
     "output_type": "execute_result"
    }
   ],
   "source": [
    "# Creates a score that represents a rate of variation for the given cluster option.\n",
    "score = [kmeans[i].fit(df2).score(df2) for i in range(len(kmeans))]\n",
    "score"
   ]
  },
  {
   "cell_type": "code",
   "execution_count": 20,
   "id": "db54ce47",
   "metadata": {},
   "outputs": [
    {
     "data": {
      "image/png": "[encoded data removed]",
      "text/plain": [
       "<Figure size 640x480 with 1 Axes>"
      ]
     },
     "metadata": {},
     "output_type": "display_data"
    }
   ],
   "source": [
    "# Plot the elbow curve using PyLab.\n",
    "\n",
    "pl.plot(num_cl,score)\n",
    "pl.xlabel('Number of Clusters')\n",
    "pl.ylabel('Score')\n",
    "pl.title('Elbow Curve')\n",
    "pl.show()"
   ]
  },
  {
   "cell_type": "markdown",
   "id": "ddfda7e0",
   "metadata": {},
   "source": [
    "#### Based on the graph above, the curve starts to really flatten out at 4 clusters. It is still increasing from 4 to 5 and slightly from 5 to 6, but the increases are much smaller. For this reason, I will proceed with 4 clusters."
   ]
  },
  {
   "cell_type": "markdown",
   "id": "743bd140",
   "metadata": {},
   "source": [
    "## 04. k-means clustering"
   ]
  },
  {
   "cell_type": "code",
   "execution_count": 33,
   "id": "1e06b1ef",
   "metadata": {},
   "outputs": [],
   "source": [
    "# Normalizing the price variable for proper scaleability\n",
    "from sklearn.preprocessing import MinMaxScaler, StandardScaler"
   ]
  },
  {
   "cell_type": "code",
   "execution_count": 34,
   "id": "406e349b",
   "metadata": {},
   "outputs": [],
   "source": [
    "# Create Standard Scaler object \n",
    "scaler = StandardScaler()"
   ]
  },
  {
   "cell_type": "code",
   "execution_count": 35,
   "id": "eced5e76",
   "metadata": {},
   "outputs": [],
   "source": [
    "# Normalize the features in the data set\n",
    "df2_normalized = scaler.fit_transform(df2)"
   ]
  },
  {
   "cell_type": "code",
   "execution_count": 36,
   "id": "c3a50696",
   "metadata": {},
   "outputs": [],
   "source": [
    "# Create k-means object for 4 clusters.\n",
    "kmeans4 = KMeans(n_clusters = 4) "
   ]
  },
  {
   "cell_type": "code",
   "execution_count": 37,
   "id": "78d856be",
   "metadata": {},
   "outputs": [
    {
     "name": "stderr",
     "output_type": "stream",
     "text": [
      "C:\\Users\\peter\\anaconda3\\lib\\site-packages\\sklearn\\cluster\\_kmeans.py:870: FutureWarning: The default value of `n_init` will change from 10 to 'auto' in 1.4. Set the value of `n_init` explicitly to suppress the warning\n",
      "  warnings.warn(\n"
     ]
    },
    {
     "data": {
      "text/html": [
       "<style>#sk-container-id-2 {color: black;background-color: white;}#sk-container-id-2 pre{padding: 0;}#sk-container-id-2 div.sk-toggleable {background-color: white;}#sk-container-id-2 label.sk-toggleable__label {cursor: pointer;display: block;width: 100%;margin-bottom: 0;padding: 0.3em;box-sizing: border-box;text-align: center;}#sk-container-id-2 label.sk-toggleable__label-arrow:before {content: \"▸\";float: left;margin-right: 0.25em;color: #696969;}#sk-container-id-2 label.sk-toggleable__label-arrow:hover:before {color: black;}#sk-container-id-2 div.sk-estimator:hover label.sk-toggleable__label-arrow:before {color: black;}#sk-container-id-2 div.sk-toggleable__content {max-height: 0;max-width: 0;overflow: hidden;text-align: left;background-color: #f0f8ff;}#sk-container-id-2 div.sk-toggleable__content pre {margin: 0.2em;color: black;border-radius: 0.25em;background-color: #f0f8ff;}#sk-container-id-2 input.sk-toggleable__control:checked~div.sk-toggleable__content {max-height: 200px;max-width: 100%;overflow: auto;}#sk-container-id-2 input.sk-toggleable__control:checked~label.sk-toggleable__label-arrow:before {content: \"▾\";}#sk-container-id-2 div.sk-estimator input.sk-toggleable__control:checked~label.sk-toggleable__label {background-color: #d4ebff;}#sk-container-id-2 div.sk-label input.sk-toggleable__control:checked~label.sk-toggleable__label {background-color: #d4ebff;}#sk-container-id-2 input.sk-hidden--visually {border: 0;clip: rect(1px 1px 1px 1px);clip: rect(1px, 1px, 1px, 1px);height: 1px;margin: -1px;overflow: hidden;padding: 0;position: absolute;width: 1px;}#sk-container-id-2 div.sk-estimator {font-family: monospace;background-color: #f0f8ff;border: 1px dotted black;border-radius: 0.25em;box-sizing: border-box;margin-bottom: 0.5em;}#sk-container-id-2 div.sk-estimator:hover {background-color: #d4ebff;}#sk-container-id-2 div.sk-parallel-item::after {content: \"\";width: 100%;border-bottom: 1px solid gray;flex-grow: 1;}#sk-container-id-2 div.sk-label:hover label.sk-toggleable__label {background-color: #d4ebff;}#sk-container-id-2 div.sk-serial::before {content: \"\";position: absolute;border-left: 1px solid gray;box-sizing: border-box;top: 0;bottom: 0;left: 50%;z-index: 0;}#sk-container-id-2 div.sk-serial {display: flex;flex-direction: column;align-items: center;background-color: white;padding-right: 0.2em;padding-left: 0.2em;position: relative;}#sk-container-id-2 div.sk-item {position: relative;z-index: 1;}#sk-container-id-2 div.sk-parallel {display: flex;align-items: stretch;justify-content: center;background-color: white;position: relative;}#sk-container-id-2 div.sk-item::before, #sk-container-id-2 div.sk-parallel-item::before {content: \"\";position: absolute;border-left: 1px solid gray;box-sizing: border-box;top: 0;bottom: 0;left: 50%;z-index: -1;}#sk-container-id-2 div.sk-parallel-item {display: flex;flex-direction: column;z-index: 1;position: relative;background-color: white;}#sk-container-id-2 div.sk-parallel-item:first-child::after {align-self: flex-end;width: 50%;}#sk-container-id-2 div.sk-parallel-item:last-child::after {align-self: flex-start;width: 50%;}#sk-container-id-2 div.sk-parallel-item:only-child::after {width: 0;}#sk-container-id-2 div.sk-dashed-wrapped {border: 1px dashed gray;margin: 0 0.4em 0.5em 0.4em;box-sizing: border-box;padding-bottom: 0.4em;background-color: white;}#sk-container-id-2 div.sk-label label {font-family: monospace;font-weight: bold;display: inline-block;line-height: 1.2em;}#sk-container-id-2 div.sk-label-container {text-align: center;}#sk-container-id-2 div.sk-container {/* jupyter's `normalize.less` sets `[hidden] { display: none; }` but bootstrap.min.css set `[hidden] { display: none !important; }` so we also need the `!important` here to be able to override the default hidden behavior on the sphinx rendered scikit-learn.org. See: https://github.com/scikit-learn/scikit-learn/issues/21755 */display: inline-block !important;position: relative;}#sk-container-id-2 div.sk-text-repr-fallback {display: none;}</style><div id=\"sk-container-id-2\" class=\"sk-top-container\"><div class=\"sk-text-repr-fallback\"><pre>KMeans(n_clusters=4)</pre><b>In a Jupyter environment, please rerun this cell to show the HTML representation or trust the notebook. <br />On GitHub, the HTML representation is unable to render, please try loading this page with nbviewer.org.</b></div><div class=\"sk-container\" hidden><div class=\"sk-item\"><div class=\"sk-estimator sk-toggleable\"><input class=\"sk-toggleable__control sk-hidden--visually\" id=\"sk-estimator-id-2\" type=\"checkbox\" checked><label for=\"sk-estimator-id-2\" class=\"sk-toggleable__label sk-toggleable__label-arrow\">KMeans</label><div class=\"sk-toggleable__content\"><pre>KMeans(n_clusters=4)</pre></div></div></div></div></div>"
      ],
      "text/plain": [
       "KMeans(n_clusters=4)"
      ]
     },
     "execution_count": 37,
     "metadata": {},
     "output_type": "execute_result"
    }
   ],
   "source": [
    "# Fit the k-means object to the data.\n",
    "kmeans4.fit(df2_normalized)"
   ]
  },
  {
   "cell_type": "code",
   "execution_count": 38,
   "id": "3b79f40d",
   "metadata": {},
   "outputs": [
    {
     "name": "stderr",
     "output_type": "stream",
     "text": [
      "C:\\Users\\peter\\anaconda3\\lib\\site-packages\\sklearn\\cluster\\_kmeans.py:870: FutureWarning: The default value of `n_init` will change from 10 to 'auto' in 1.4. Set the value of `n_init` explicitly to suppress the warning\n",
      "  warnings.warn(\n"
     ]
    }
   ],
   "source": [
    "# Creating a new column with the new clusters attached \n",
    "df2['4_clusters'] = kmeans4.fit_predict(df2_normalized)"
   ]
  },
  {
   "cell_type": "code",
   "execution_count": 39,
   "id": "8880f640",
   "metadata": {},
   "outputs": [
    {
     "data": {
      "text/html": [
       "<div>\n",
       "<style scoped>\n",
       "    .dataframe tbody tr th:only-of-type {\n",
       "        vertical-align: middle;\n",
       "    }\n",
       "\n",
       "    .dataframe tbody tr th {\n",
       "        vertical-align: top;\n",
       "    }\n",
       "\n",
       "    .dataframe thead th {\n",
       "        text-align: right;\n",
       "    }\n",
       "</style>\n",
       "<table border=\"1\" class=\"dataframe\">\n",
       "  <thead>\n",
       "    <tr style=\"text-align: right;\">\n",
       "      <th></th>\n",
       "      <th>price</th>\n",
       "      <th>accommodates</th>\n",
       "      <th>beds</th>\n",
       "      <th>review_scores_rating</th>\n",
       "      <th>4_clusters</th>\n",
       "    </tr>\n",
       "  </thead>\n",
       "  <tbody>\n",
       "    <tr>\n",
       "      <th>0</th>\n",
       "      <td>136.0</td>\n",
       "      <td>3</td>\n",
       "      <td>2.0</td>\n",
       "      <td>4.99</td>\n",
       "      <td>2</td>\n",
       "    </tr>\n",
       "    <tr>\n",
       "      <th>1</th>\n",
       "      <td>179.0</td>\n",
       "      <td>3</td>\n",
       "      <td>1.0</td>\n",
       "      <td>4.85</td>\n",
       "      <td>1</td>\n",
       "    </tr>\n",
       "    <tr>\n",
       "      <th>2</th>\n",
       "      <td>84.0</td>\n",
       "      <td>3</td>\n",
       "      <td>1.0</td>\n",
       "      <td>4.85</td>\n",
       "      <td>1</td>\n",
       "    </tr>\n",
       "    <tr>\n",
       "      <th>3</th>\n",
       "      <td>65.0</td>\n",
       "      <td>2</td>\n",
       "      <td>1.0</td>\n",
       "      <td>4.87</td>\n",
       "      <td>1</td>\n",
       "    </tr>\n",
       "    <tr>\n",
       "      <th>4</th>\n",
       "      <td>111.0</td>\n",
       "      <td>2</td>\n",
       "      <td>1.0</td>\n",
       "      <td>4.95</td>\n",
       "      <td>1</td>\n",
       "    </tr>\n",
       "  </tbody>\n",
       "</table>\n",
       "</div>"
      ],
      "text/plain": [
       "   price  accommodates  beds  review_scores_rating  4_clusters\n",
       "0  136.0             3   2.0                  4.99           2\n",
       "1  179.0             3   1.0                  4.85           1\n",
       "2   84.0             3   1.0                  4.85           1\n",
       "3   65.0             2   1.0                  4.87           1\n",
       "4  111.0             2   1.0                  4.95           1"
      ]
     },
     "execution_count": 39,
     "metadata": {},
     "output_type": "execute_result"
    }
   ],
   "source": [
    "df2.head()"
   ]
  },
  {
   "cell_type": "code",
   "execution_count": 40,
   "id": "27fe6b64",
   "metadata": {},
   "outputs": [
    {
     "data": {
      "text/plain": [
       "1    2144\n",
       "2    1795\n",
       "0    1330\n",
       "3      57\n",
       "Name: 4_clusters, dtype: int64"
      ]
     },
     "execution_count": 40,
     "metadata": {},
     "output_type": "execute_result"
    }
   ],
   "source": [
    "df2['4_clusters'].value_counts()"
   ]
  },
  {
   "cell_type": "code",
   "execution_count": 41,
   "id": "b76da6af",
   "metadata": {},
   "outputs": [
    {
     "data": {
      "image/png": "[encoded data removed]",
      "text/plain": [
       "<Figure size 1200x800 with 1 Axes>"
      ]
     },
     "metadata": {},
     "output_type": "display_data"
    }
   ],
   "source": [
    "# Plot the clusters for the 'price' and 'beds' variables.\n",
    "\n",
    "plt.figure(figsize=(12,8))\n",
    "ax = sns.scatterplot(x=df2['beds'], y=df2['price'], hue=kmeans4.labels_, s=75) \n",
    "\n",
    "plt.xlabel('Beds') # Label x-axis.\n",
    "plt.ylabel('Price') # Label y-axis.\n",
    "plt.show()"
   ]
  },
  {
   "cell_type": "code",
   "execution_count": 42,
   "id": "af342516",
   "metadata": {},
   "outputs": [
    {
     "data": {
      "image/png": "[encoded data removed]",
      "text/plain": [
       "<Figure size 1200x800 with 1 Axes>"
      ]
     },
     "metadata": {},
     "output_type": "display_data"
    }
   ],
   "source": [
    "# Plot the clusters for the 'price' and 'beds' variables.\n",
    "\n",
    "plt.figure(figsize=(12,8))\n",
    "ax = sns.scatterplot(x=df2['review_scores_rating'], y=df2['price'], hue=kmeans4.labels_, s=75) \n",
    "\n",
    "plt.xlabel('Review Score') # Label x-axis.\n",
    "plt.ylabel('Price') # Label y-axis.\n",
    "plt.show()"
   ]
  },
  {
   "cell_type": "markdown",
   "id": "e5357465",
   "metadata": {},
   "source": [
    "### Revised Answer: \n",
    "### After normalizing the price variable, the cluster behaves much differently. In the beds graph, I can see that cluster 0 has a higher average price and also a higher average number of beds. The clustering this time around has grouped the listings in a way that makes more sense and also sheds light on a pricing trend. Clusters 1 and 2 have lower average prices as well as lower average bed counts. Looking at the data this way, I can say that a certain degree, as the listings increase in the number of beds they have, the price will likely be higher. \n",
    "### For the review scores graph, I am interpreting similar results. Cluster 3 has the lowest review scores and also the almost the lowest average price. Cluster 0, again, has the highest prices of listings, but the unsupervised machine learning has also grouped these with the highest average review scores. This graph contains the same actual data points, but the clusters done by normalizing the price helps reveal insight into the listings with higher prices and review scores. \n",
    "\n",
    "\n",
    "##### PREVIOUS ANSWER: \n",
    "##### The clustering that was created by the machine learning makes sense for the reivew scores graph, but does not make sense for the beds graph. When looking at the 'beds vs price' graph, even with the different clusters of data, I am still not able to determine a relationship or reasoning behind the pricing of the listings. Each different color of the cluster has a similar distribution across the nubmer of beds and the price of the listing. There are cheap listings with beds ranging all the way up to 12, and there are expensive listings that cover the same spread. \n",
    "##### With the 'review scores vs price' graph, the clusters make a lot more sense and help interpret the data. This is the type of results we are looking for when running these types of ML analyses. The black and dark purple clusters start moving toward the higher price range, and their review scores reflect an increase as well. Especially with the black (#3), we see that almost all of the reviews fall around the 4.8-5.0 scores. "
   ]
  },
  {
   "cell_type": "code",
   "execution_count": 43,
   "id": "df04dad1",
   "metadata": {},
   "outputs": [
    {
     "data": {
      "text/html": [
       "<div>\n",
       "<style scoped>\n",
       "    .dataframe tbody tr th:only-of-type {\n",
       "        vertical-align: middle;\n",
       "    }\n",
       "\n",
       "    .dataframe tbody tr th {\n",
       "        vertical-align: top;\n",
       "    }\n",
       "\n",
       "    .dataframe thead tr th {\n",
       "        text-align: left;\n",
       "    }\n",
       "\n",
       "    .dataframe thead tr:last-of-type th {\n",
       "        text-align: right;\n",
       "    }\n",
       "</style>\n",
       "<table border=\"1\" class=\"dataframe\">\n",
       "  <thead>\n",
       "    <tr>\n",
       "      <th></th>\n",
       "      <th colspan=\"2\" halign=\"left\">price</th>\n",
       "      <th colspan=\"2\" halign=\"left\">beds</th>\n",
       "      <th colspan=\"2\" halign=\"left\">review_scores_rating</th>\n",
       "    </tr>\n",
       "    <tr>\n",
       "      <th></th>\n",
       "      <th>mean</th>\n",
       "      <th>median</th>\n",
       "      <th>mean</th>\n",
       "      <th>median</th>\n",
       "      <th>mean</th>\n",
       "      <th>median</th>\n",
       "    </tr>\n",
       "    <tr>\n",
       "      <th>4_clusters</th>\n",
       "      <th></th>\n",
       "      <th></th>\n",
       "      <th></th>\n",
       "      <th></th>\n",
       "      <th></th>\n",
       "      <th></th>\n",
       "    </tr>\n",
       "  </thead>\n",
       "  <tbody>\n",
       "    <tr>\n",
       "      <th>0</th>\n",
       "      <td>361.101504</td>\n",
       "      <td>257.0</td>\n",
       "      <td>4.159398</td>\n",
       "      <td>4.0</td>\n",
       "      <td>4.867313</td>\n",
       "      <td>4.91</td>\n",
       "    </tr>\n",
       "    <tr>\n",
       "      <th>1</th>\n",
       "      <td>115.441698</td>\n",
       "      <td>100.0</td>\n",
       "      <td>1.096082</td>\n",
       "      <td>1.0</td>\n",
       "      <td>4.843778</td>\n",
       "      <td>4.88</td>\n",
       "    </tr>\n",
       "    <tr>\n",
       "      <th>2</th>\n",
       "      <td>174.508078</td>\n",
       "      <td>147.0</td>\n",
       "      <td>2.107521</td>\n",
       "      <td>2.0</td>\n",
       "      <td>4.863922</td>\n",
       "      <td>4.90</td>\n",
       "    </tr>\n",
       "    <tr>\n",
       "      <th>3</th>\n",
       "      <td>117.175439</td>\n",
       "      <td>99.0</td>\n",
       "      <td>1.824561</td>\n",
       "      <td>1.0</td>\n",
       "      <td>2.102281</td>\n",
       "      <td>2.00</td>\n",
       "    </tr>\n",
       "  </tbody>\n",
       "</table>\n",
       "</div>"
      ],
      "text/plain": [
       "                 price             beds        review_scores_rating       \n",
       "                  mean median      mean median                 mean median\n",
       "4_clusters                                                                \n",
       "0           361.101504  257.0  4.159398    4.0             4.867313   4.91\n",
       "1           115.441698  100.0  1.096082    1.0             4.843778   4.88\n",
       "2           174.508078  147.0  2.107521    2.0             4.863922   4.90\n",
       "3           117.175439   99.0  1.824561    1.0             2.102281   2.00"
      ]
     },
     "execution_count": 43,
     "metadata": {},
     "output_type": "execute_result"
    }
   ],
   "source": [
    "df2.groupby('4_clusters').agg({'price':['mean', 'median'], \n",
    "                         'beds':['mean', 'median'], \n",
    "                         'review_scores_rating':['mean', 'median']})"
   ]
  },
  {
   "cell_type": "code",
   "execution_count": 44,
   "id": "f46e31fe",
   "metadata": {},
   "outputs": [
    {
     "data": {
      "text/plain": [
       "1    2144\n",
       "2    1795\n",
       "0    1330\n",
       "3      57\n",
       "Name: 4_clusters, dtype: int64"
      ]
     },
     "execution_count": 44,
     "metadata": {},
     "output_type": "execute_result"
    }
   ],
   "source": [
    "df2['4_clusters'].value_counts()"
   ]
  },
  {
   "cell_type": "markdown",
   "id": "765e3286",
   "metadata": {},
   "source": [
    "### The results from this unsupervised machine learning analysis using clustering could be helpful down the road. I was able to identify a distinct different in the groups of listings for the review scores. Since success as an Airbnb  host is so heavily dependent on reviews left by guests, we could offer some suggestions as we summarize our analysis. Often times, the higher the price of the listing, the nicer the unit most likely is. By seeing that lower-priced units can lead to lower review scores, I would suggest that if you are listing a lower-price unit, that you do everything you can to make the guests experience unique and memorable. If you don't have the nicest furniture, that's OK! Try and make up for it with detailed guide-books or fun/free amenities in the unit. \n",
    "### Since the clusting reiterated that the price vs beds relationship does not matter as much, we can choose to ignore this later in our conclusion. I am discovering from all the graphs and relationships between variables that price is determined by a lot more than just the number of beds, location or accommodation amount. This makes sense because with our data set, we don't have information about amenities or the age of the unit or photos of how it has been decorated or designed. These can all be huge factors when determining how much to price the listing and how well it does in terms of review scores. "
   ]
  },
  {
   "cell_type": "code",
   "execution_count": null,
   "id": "107b4329",
   "metadata": {},
   "outputs": [],
   "source": []
  }
 ],
 "metadata": {
  "kernelspec": {
   "display_name": "Python 3 (ipykernel)",
   "language": "python",
   "name": "python3"
  },
  "language_info": {
   "codemirror_mode": {
    "name": "ipython",
    "version": 3
   },
   "file_extension": ".py",
   "mimetype": "text/x-python",
   "name": "python",
   "nbconvert_exporter": "python",
   "pygments_lexer": "ipython3",
   "version": "3.10.9"
  }
 },
 "nbformat": 4,
 "nbformat_minor": 5
}
